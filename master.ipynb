{
 "cells": [
  {
   "metadata": {
    "ExecuteTime": {
     "end_time": "2024-07-02T05:51:55.036566Z",
     "start_time": "2024-07-02T05:51:55.012815Z"
    }
   },
   "cell_type": "code",
   "source": [
    "import nbformat\n",
    "\n",
    "# load filial notebooks\n",
    "nb0 = nbformat.read(open('NumOpt-P2_24.ipynb'), as_version=4)\n",
    "nb1 = nbformat.read(open('LP-TwoVars-corrected.ipynb'), as_version=4)\n",
    "nb2 = nbformat.read(open('LP-FeasNonFeas.ipynb'), as_version=4)\n",
    "nb3 = nbformat.read(open('QP-Common.ipynb'), as_version=4)\n",
    "nb4 = nbformat.read(open('QP-Special.ipynb'), as_version=4)\n",
    "#nb5 = nbformat.read(open('task5.ipynb'), as_version=4)\n",
    "#nb6 = nbformat.read(open('task6.ipynb'), as_version=4)\n",
    "\n",
    "# Create central notebook\n",
    "project_notebook = nbformat.v4.new_notebook()\n",
    "\n",
    "# aggregate filial notebooks into central one\n",
    "project_notebook.cells.extend(nb0.cells)\n",
    "project_notebook.cells.extend(nb1.cells)\n",
    "project_notebook.cells.extend(nb2.cells)\n",
    "project_notebook.cells.extend(nb3.cells)\n",
    "project_notebook.cells.extend(nb4.cells)\n",
    "#project_notebook.cells.extend(nb5.cells)\n",
    "#project_notebook.cells.extend(nb6.cells)\n",
    "\n",
    "# save central notebook\n",
    "nbformat.write(project_notebook, open('project.ipynb', 'w'))"
   ],
   "id": "49a1f1799974d70e",
   "outputs": [],
   "execution_count": 3
  },
  {
   "metadata": {},
   "cell_type": "code",
   "outputs": [],
   "execution_count": null,
   "source": "",
   "id": "9b54cba7f338dfa9"
  }
 ],
 "metadata": {
  "kernelspec": {
   "display_name": "Python 3",
   "language": "python",
   "name": "python3"
  },
  "language_info": {
   "codemirror_mode": {
    "name": "ipython",
    "version": 2
   },
   "file_extension": ".py",
   "mimetype": "text/x-python",
   "name": "python",
   "nbconvert_exporter": "python",
   "pygments_lexer": "ipython2",
   "version": "2.7.6"
  }
 },
 "nbformat": 4,
 "nbformat_minor": 5
}
