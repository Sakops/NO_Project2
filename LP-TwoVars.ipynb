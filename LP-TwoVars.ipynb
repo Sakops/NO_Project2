{
 "cells": [
  {
   "cell_type": "markdown",
   "id": "9c12fc48",
   "metadata": {
    "colab_type": "text",
    "id": "view-in-github"
   },
   "source": [
    "<a href=\"https://colab.research.google.com/github/wolfram-laube/numopt_project-2/blob/develop/LP-TwoVars.ipynb\" target=\"_parent\"><img src=\"https://colab.research.google.com/assets/colab-badge.svg\" alt=\"Open In Colab\"/></a>"
   ]
  },
  {
   "cell_type": "markdown",
   "id": "ebc02ad69c233e1d",
   "metadata": {
    "id": "ebc02ad69c233e1d"
   },
   "source": [
    "# Linear Programming: Primal and Dual Problems\n",
    "\n"
   ]
  },
  {
   "cell_type": "markdown",
   "id": "_8SL_rQIlda_",
   "metadata": {
    "id": "_8SL_rQIlda_"
   },
   "source": [
    "## Introduction\n",
    "In linear programming, every optimization problem (primal problem) has a corresponding dual problem. Solving either problem can give insights into the other. This notebook will demonstrate the formulation and solution of both the primal and dual problems, solve them manually and computationally, and verify their equivalence.\n",
    "\n"
   ]
  },
  {
   "cell_type": "markdown",
   "id": "zg11PcgvmJP9",
   "metadata": {
    "id": "zg11PcgvmJP9"
   },
   "source": [
    "## Problem 1"
   ]
  },
  {
   "cell_type": "markdown",
   "id": "ozxYxOugle3F",
   "metadata": {
    "id": "ozxYxOugle3F"
   },
   "source": [
    "### Formulate the Primal Problem\n",
    "\n"
   ]
  },
  {
   "cell_type": "markdown",
   "id": "iXyeqFu9lgFK",
   "metadata": {
    "id": "iXyeqFu9lgFK"
   },
   "source": [
    "#### Textual Formulation\n",
    "\n",
    "**Objective Function:**\n",
    "$$\n",
    "\\text{Minimize } Z = 3x_1 + 2x_2\n",
    "$$\n",
    "\n",
    "**Subject to:**\n",
    "$$\n",
    "\\begin{align*}\n",
    "x_1 + x_2 & \\geq 4 \\\\\n",
    "2x_1 + x_2 & \\geq 5 \\\\\n",
    "x_1 & \\geq 3 \\\\\n",
    "x_1, x_2 & \\geq 0\n",
    "\\end{align*}\n",
    "$$\n",
    "\n"
   ]
  },
  {
   "cell_type": "markdown",
   "id": "BFbadFHxlhrL",
   "metadata": {
    "id": "BFbadFHxlhrL"
   },
   "source": [
    "#### Code Formulation\n",
    "\n",
    "We will use the `linprog` function from the `scipy.optimize` module to solve the primal problem.\n"
   ]
  },
  {
   "cell_type": "code",
   "execution_count": null,
   "id": "5d768d0140cfc6ee",
   "metadata": {
    "ExecuteTime": {
     "end_time": "2024-06-28T05:47:37.655343Z",
     "start_time": "2024-06-28T05:47:37.239749Z"
    },
    "id": "5d768d0140cfc6ee",
    "outputId": "9310b589-ab63-460a-b8f5-ab5763b89cd8"
   },
   "outputs": [
    {
     "data": {
      "text/plain": [
       "(array([3., 1.]), 11.0)"
      ]
     },
     "execution_count": 1,
     "metadata": {},
     "output_type": "execute_result"
    }
   ],
   "source": [
    "import numpy as np\n",
    "from scipy.optimize import linprog\n",
    "\n",
    "# Coefficients of the objective function\n",
    "c_primal = [3, 2]\n",
    "\n",
    "# Coefficients of the inequality constraints (convert to <= form)\n",
    "A_primal = [[-1, -1], [-2, -1], [-1, 0]]\n",
    "b_primal = [-4, -5, -3]\n",
    "\n",
    "# Solve the linear program\n",
    "result_primal = linprog(c_primal, A_ub=A_primal, b_ub=b_primal, method='highs')\n",
    "\n",
    "# Display the results\n",
    "result_primal.x, result_primal.fun\n"
   ]
  },
  {
   "cell_type": "markdown",
   "id": "e04969fa9b24cfc3",
   "metadata": {
    "id": "e04969fa9b24cfc3"
   },
   "source": [
    "### Formulate the Dual Problem\n",
    "\n"
   ]
  },
  {
   "cell_type": "markdown",
   "id": "PK9pEkJQfyIZ",
   "metadata": {
    "id": "PK9pEkJQfyIZ"
   },
   "source": [
    "#### Textual Formulation\n",
    "\n",
    "**Objective Function:**\n",
    "$$\n",
    "\\text{Maximize } W = 4y_1 + 5y_2 + 3y_3\n",
    "$$\n",
    "\n",
    "**Subject to:**\n",
    "$$\n",
    "\\begin{align*}\n",
    "y_1 + 2y_2 + y_3 & \\leq 3 \\\\\n",
    "y_1 + y_2 & \\leq 2 \\\\\n",
    "y_1, y_2, y_3 & \\geq 0\n",
    "\\end{align*}\n",
    "$$\n",
    "\n"
   ]
  },
  {
   "cell_type": "markdown",
   "id": "8I6OFZ2df1BC",
   "metadata": {
    "id": "8I6OFZ2df1BC"
   },
   "source": [
    "#### Code Formulation\n",
    "\n",
    "We will again use the `linprog` function to solve the dual problem.\n"
   ]
  },
  {
   "cell_type": "code",
   "execution_count": null,
   "id": "867bd5b0a0d2b3ce",
   "metadata": {
    "ExecuteTime": {
     "end_time": "2024-06-28T05:52:28.356352Z",
     "start_time": "2024-06-28T05:52:28.348852Z"
    },
    "id": "867bd5b0a0d2b3ce",
    "outputId": "81011ebc-1fc2-41cf-b662-0c551a50fad4"
   },
   "outputs": [
    {
     "data": {
      "text/plain": [
       "(array([2., 0., 1.]), -11.0)"
      ]
     },
     "execution_count": 2,
     "metadata": {},
     "output_type": "execute_result"
    }
   ],
   "source": [
    "# Coefficients of the objective function\n",
    "c_dual = [-4, -5, -3]\n",
    "\n",
    "# Coefficients of the inequality constraints (convert to <= form)\n",
    "A_dual = [[1, 2, 1], [1, 1, 0]]\n",
    "b_dual = [3, 2]\n",
    "\n",
    "# Solve the linear program\n",
    "result_dual = linprog(c_dual, A_ub=A_dual, b_ub=b_dual, method='highs')\n",
    "\n",
    "# Display the results\n",
    "result_dual.x, result_dual.fun\n"
   ]
  },
  {
   "cell_type": "markdown",
   "id": "ae42e1913d791fc9",
   "metadata": {
    "id": "ae42e1913d791fc9"
   },
   "source": [
    "### Manual Solution of the Primal Problem"
   ]
  },
  {
   "cell_type": "markdown",
   "id": "NhKqDfugf4lP",
   "metadata": {
    "id": "NhKqDfugf4lP"
   },
   "source": [
    "#### Initial Simplex Tableau\n",
    "\n",
    "To solve the primal problem manually using the Simplex method, we start by setting up the initial simplex tableau.\n",
    "\n",
    "$$\n",
    "\\begin{array}{c|cccccc}\n",
    "\\text{Basis} & x_1 & x_2 & s_1 & s_2 & s_3 & \\text{RHS} \\\\\n",
    "\\hline\n",
    "s_1 & 1 & 1 & 1 & 0 & 0 & 4 \\\\\n",
    "s_2 & 2 & 1 & 0 & 1 & 0 & 5 \\\\\n",
    "s_3 & 1 & 0 & 0 & 0 & 1 & 3 \\\\\n",
    "\\hline\n",
    "Z & -3 & -2 & 0 & 0 & 0 & 0 \\\\\n",
    "\\end{array}\n",
    "$$\n",
    "\n"
   ]
  },
  {
   "cell_type": "markdown",
   "id": "clgQNu1rf9wF",
   "metadata": {
    "id": "clgQNu1rf9wF"
   },
   "source": [
    "#### Iteration 1\n",
    "\n",
    "- **Identify the entering variable**: The most negative coefficient in the Z-row is $-3$ for $x_1$. Thus, $x_1$ will enter the basis.\n",
    "- **Identify the leaving variable**: Perform the minimum ratio test:\n",
    "  $$\n",
    "  \\frac{\\text{RHS}}{\\text{Pivot column}} = \\frac{4}{1} = 4, \\quad \\frac{5}{2} = 2.5, \\quad \\frac{3}{1} = 3\n",
    "  $$\n",
    "  The smallest ratio is 2.5, so $s_2$ will leave the basis.\n",
    "- **Pivot**: Pivot around the element 2 in the second row, first column.\n",
    "\n"
   ]
  },
  {
   "cell_type": "markdown",
   "id": "ZOuAsz7IkWWm",
   "metadata": {
    "id": "ZOuAsz7IkWWm"
   },
   "source": [
    "##### Pivot Steps Explained\n",
    "\n",
    "**New Row 2 (Pivot row normalization):**\n",
    "Normalize the pivot row by dividing every element in the row by the pivot element (2).\n",
    "\n",
    "$$\n",
    "\\frac{R2}{2} \\implies \\frac{2}{2}, \\frac{1}{2}, \\frac{0}{2}, \\frac{1}{2}, \\frac{0}{2}, \\frac{5}{2} \\implies 1, \\frac{1}{2}, 0, \\frac{1}{2}, 0, \\frac{5}{2}\n",
    "$$\n",
    "\n",
    "**New Row 1:**\n",
    "Update the first row by subtracting the pivot row multiplied by the appropriate factor to make the pivot column element in the first row zero.\n",
    "\n",
    "$$\n",
    "R1 - R2 \\implies (1, 1, 1, 0, 0, 4) - (1, \\frac{1}{2}, 0, \\frac{1}{2}, 0, \\frac{5}{2}) \\implies 0, \\frac{1}{2}, 1, -\\frac{1}{2}, 0, \\frac{3}{2}\n",
    "$$\n",
    "\n",
    "**New Row 3:**\n",
    "Update the third row similarly to make the pivot column element in the third row zero.\n",
    "\n",
    "$$\n",
    "R3 - R2 \\implies (1, 0, 0, 0, 1, 3) - (1, \\frac{1}{2}, 0, \\frac{1}{2}, 0, \\frac{5}{2}) \\implies 0, -\\frac{1}{2}, 0, -\\frac{1}{2}, 1, \\frac{1}{2}\n",
    "$$\n",
    "\n",
    "**New Z-row:**\n",
    "Update the Z-row by adding the pivot row multiplied by the appropriate factor to make the pivot column element in the Z-row zero.\n",
    "\n",
    "$$\n",
    "Z + 3 \\times R2 \\implies (-3, -2, 0, 0, 0, 0) + 3 \\times (1, \\frac{1}{2}, 0, \\frac{1}{2}, 0, \\frac{5}{2}) \\implies 0, -\\frac{1}{2}, 0, \\frac{3}{2}, 0, \\frac{15}{2}\n",
    "$$\n",
    "\n"
   ]
  },
  {
   "cell_type": "markdown",
   "id": "CNmzrYrckZMr",
   "metadata": {
    "id": "CNmzrYrckZMr"
   },
   "source": [
    "#### Updated Tableau\n",
    "\n",
    "$$\n",
    "\\begin{array}{c|cccccc}\n",
    "\\text{Basis} & x_1 & x_2 & s_1 & s_2 & s_3 & \\text{RHS} \\\\\n",
    "\\hline\n",
    "s_1 & 0 & \\frac{1}{2} & 1 & -\\frac{1}{2} & 0 & \\frac{3}{2} \\\\\n",
    "x_1 & 1 & \\frac{1}{2} & 0 & \\frac{1}{2} & 0 & \\frac{5}{2} \\\\\n",
    "s_3 & 0 & -\\frac{1}{2} & 0 & -\\frac{1}{2} & 1 & \\frac{1}{2} \\\\\n",
    "\\hline\n",
    "Z & 0 & -\\frac{1}{2} & 0 & \\frac{3}{2} & 0 & \\frac{15}{2}\n",
    "\\end{array}\n",
    "$$\n",
    "\n"
   ]
  },
  {
   "cell_type": "markdown",
   "id": "iwbSdILikdcF",
   "metadata": {
    "id": "iwbSdILikdcF"
   },
   "source": [
    "#### Iteration 2\n",
    "\n",
    "- **Identify the entering variable**: The most negative coefficient in the Z-row is $-\\frac{1}{2}$ for $x_2$. Thus, $x_2$ will enter the basis.\n",
    "- **Identify the leaving variable**: Perform the minimum ratio test:\n",
    "  $$\n",
    "  \\frac{\\text{RHS}}{\\text{Pivot column}} = \\frac{\\frac{3}{2}}{\\frac{1}{2}} = 3, \\quad \\frac{\\frac{5}{2}}{\\frac{1}{2}} = 5, \\quad \\frac{\\frac{1}{2}}{-\\frac{1}{2}} = -1 \\quad (\\text{skip})\n",
    "  $$\n",
    "  The smallest ratio is 3, so $s_1$ will leave the basis.\n",
    "- **Pivot**: Pivot around the element $\\frac{1}{2}$ in the first row, second column.\n",
    "\n"
   ]
  },
  {
   "cell_type": "markdown",
   "id": "sdjug0FKkfXo",
   "metadata": {
    "id": "sdjug0FKkfXo"
   },
   "source": [
    "##### Pivot Steps Explained\n",
    "\n",
    "**New Row 1 (Pivot row normalization):**\n",
    "Normalize the pivot row by dividing every element in the row by the pivot element ($\\frac{1}{2}$).\n",
    "\n",
    "$$\n",
    "\\frac{R1}{\\frac{1}{2}} \\implies \\frac{0}{\\frac{1}{2}}, \\frac{\\frac{1}{2}}{\\frac{1}{2}}, \\frac{1}{\\frac{1}{2}}, \\frac{-\\frac{1}{2}}{\\frac{1}{2}}, \\frac{0}{\\frac{1}{2}}, \\frac{\\frac{3}{2}}{\\frac{1}{2}} \\implies 0, 1, 2, -1, 0, 3\n",
    "$$\n",
    "\n",
    "**New Row 2:**\n",
    "\n",
    "Update the second row by subtracting the pivot row multiplied by the appropriate factor to make the pivot column element in the second row zero.\n",
    "\n",
    "$$\n",
    "R2 - \\frac{1}{2} \\times \\text{(new R1)} \\implies (1, \\frac{1}{2}, 0, \\frac{1}{2}, 0, \\frac{5}{2}) - \\frac{1}{2} \\times (0, 1, 2, -1, 0, 3) \\implies 1, 0, -1, 1, 0, 1\n",
    "$$\n",
    "\n",
    "**New Row 3:**\n",
    "\n",
    "Update the third row similarly to make the pivot column element in the third row zero.\n",
    "\n",
    "$$\n",
    "R3 + \\frac{1}{2} \\times \\text{(new R1)} \\implies (0, -\\frac{1}{2}, 0, -\\frac{1}{2}, 1, \\frac{1}{2}) + \\frac{1}{2} \\times (0, 1, 2, -1, 0, 3) \\implies 0, 0, 1, -1, 1, 2\n",
    "$$\n",
    "\n",
    "**New Z-row:**\n",
    "\n",
    "Update the Z-row by adding the pivot row multiplied by the appropriate factor to make the pivot column element in the Z-row zero.\n",
    "\n",
    "$$\n",
    "Z + \\frac{1}{2} \\times \\text{(new R1)} \\implies (0, -\\frac{1}{2}, 0, \\frac{3}{2}, 0, \\frac{15}{2}) + \\frac{1}{2} \\times (0, 1, 2, -1, 0, 3) \\implies 0, 0, 1, 1, 0, 9\n",
    "$$\n",
    "\n"
   ]
  },
  {
   "cell_type": "markdown",
   "id": "Q8BVGwYDkhWE",
   "metadata": {
    "id": "Q8BVGwYDkhWE"
   },
   "source": [
    "#### Updated Tableau\n",
    "\n",
    "$$\n",
    "\\begin{array}{c|cccccc}\n",
    "\\text{Basis} & x_1 & x_2 & s_1 & s_2 & s_3 & \\text{RHS} \\\\\n",
    "\\hline\n",
    "x_2 & 0 & 1 & 2 & -1 & 0 & 3 \\\\\n",
    "x_1 & 1 & 0 & -1 & 1 & 0 & 1 \\\\\n",
    "s_3 & 0 & 0 & 1 & -1 & 1 & 2 \\\\\n",
    "\\hline\n",
    "Z & 0 & 0 & 1 & 1 & 0 & 9\n",
    "\\end{array}\n",
    "$$\n",
    "\n"
   ]
  },
  {
   "cell_type": "markdown",
   "id": "GlP3jQltkiyx",
   "metadata": {
    "id": "GlP3jQltkiyx"
   },
   "source": [
    "#### Optimal Solution:\n",
    "\n",
    "Since there are no negative coefficients in the Z-row, the optimal solution has been reached. The values of the decision variables are:\n",
    "$$\n",
    "x_1 = 1, \\quad x_2 = 3\n",
    "$$\n",
    "The optimal value of the objective function is:\n",
    "$$\n",
    "Z = 9\n",
    "$$\n",
    "\n"
   ]
  },
  {
   "cell_type": "markdown",
   "id": "s1CRk_POkkr9",
   "metadata": {
    "id": "s1CRk_POkkr9"
   },
   "source": [
    "### Manual Solution of the Dual Problem\n",
    "\n"
   ]
  },
  {
   "cell_type": "markdown",
   "id": "zzNX0hPSknZR",
   "metadata": {
    "id": "zzNX0hPSknZR"
   },
   "source": [
    "#### Initial Simplex Tableau\n",
    "\n",
    "$$\n",
    "\\begin{array}{c|cccccc}\n",
    "\\text{Basis} & y_1 & y_2 & y_3 & s_1 & s_2 & \\text{RHS} \\\\\n",
    "\\hline\n",
    "s_1 & 1 & 2 & 1 & 1 & 0 & 3 \\\\\n",
    "s_2 & 1 & 1 & 0 & 0 & 1 & 2 \\\\\n",
    "\\hline\n",
    "W & -4 & -5 & -3 & 0 & 0 & 0 \\\\\n",
    "\\end{array}\n",
    "$$\n",
    "\n"
   ]
  },
  {
   "cell_type": "markdown",
   "id": "AqjqLZdnkqXr",
   "metadata": {
    "id": "AqjqLZdnkqXr"
   },
   "source": [
    "#### Iteration 1\n",
    "\n",
    "- **Identify the entering variable**: The most negative coefficient in the W-row is $-5$ for $y_2$. Thus, $y_2$ will enter the basis.\n",
    "- **Identify the leaving variable**: Perform the minimum ratio test:\n",
    "  $$\n",
    "  \\frac{\\text{RHS}}{\\text{Pivot column}} = \\frac{3}{2} = 1.5, \\quad \\frac{2}{1} = 2\n",
    "  $$\n",
    "  The smallest ratio is 1.5, so $s_1$ will leave the basis.\n",
    "- **Pivot**: Pivot around the element 2 in the first row, second column.\n",
    "\n"
   ]
  },
  {
   "cell_type": "markdown",
   "id": "K8i-nsH6ksdB",
   "metadata": {
    "id": "K8i-nsH6ksdB"
   },
   "source": [
    "##### Pivot Steps Explained\n",
    "\n",
    "**New Row 1 (Pivot row normalization):**\n",
    "\n",
    "Normalize the pivot row by dividing every element in the row by the pivot element (2).\n",
    "\n",
    "$$\n",
    "\\frac{R1}{2} \\implies \\frac{1}{2}, \\frac{2}{2}, \\frac{1}{2}, \\frac{1}{2}, \\frac{0}{2}, \\frac{3}{2} \\implies \\frac{1}{2}, 1, \\frac{1}{2}, \\frac{1}{2}, 0, \\frac{3}{2}\n",
    "$$\n",
    "\n",
    "**New Row 2:**\n",
    "\n",
    "Update the second row by subtracting the pivot row multiplied by the appropriate factor to make the pivot column element in the second row zero.\n",
    "\n",
    "$$\n",
    "R2 - 1 \\times \\text{(new R1)} \\implies (1, 1, 0, 0, 1, 2) - (1, 1, \\frac{1}{2}, \\frac{1}{2}, 0, \\frac{3}{2}) \\implies 0, 0, -\\frac{1}{2}, -\\frac{1}{2}, 1, \\frac{1}{2}\n",
    "$$\n",
    "\n",
    "**New W-row:**\n",
    "\n",
    "Update the W-row by adding the pivot row multiplied by the appropriate factor to make the pivot column element in the W-row zero.\n",
    "\n",
    "$$\n",
    "W + 5 \\times \\text{(new R1)} \\implies (-4, -5, -3, 0, 0, 0) + 5 \\times (\\frac{1}{2}, 1, \\frac{1}{2}, \\frac{1}{2}, 0, \\frac{3}{2}) \\implies -4 + \\frac{5}{2}, 0, -3 + \\frac{5}{2}, 0 + \\frac{5}{2}, 0, 0 + \\frac{15}{2}\n",
    "$$\n",
    "\n",
    "$$\n",
    "W \\implies -4 + 2.5, 0, -3 + 2.5, 2.5, 0, 7.5 \\implies -1.5, 0, -0.5, 2.5, 0, 7.5\n",
    "$$\n",
    "\n"
   ]
  },
  {
   "cell_type": "markdown",
   "id": "Uu9wSeRjkvT0",
   "metadata": {
    "id": "Uu9wSeRjkvT0"
   },
   "source": [
    "#### Updated Tableau\n",
    "\n",
    "$$\n",
    "\\begin{array}{c|cccccc}\n",
    "\\text{Basis} & y_1 & y_2 & y_3 & s_1 & s_2 & \\text{RHS} \\\\\n",
    "\\hline\n",
    "y_2 & \\frac{1}{2} & 1 & \\frac{1}{2} & \\frac{1}{2} & 0 & \\frac{3}{2} \\\\\n",
    "s_2 & -\\frac{1}{2} & 0 & -\\frac{1}{2} & -\\frac{1}{2} & 1 & \\frac{1}{2} \\\\\n",
    "\\hline\n",
    "W & -1.5 & 0 & -0.5 & 2.5 & 0 & 7.5\n",
    "\\end{array}\n",
    "$$\n",
    "\n"
   ]
  },
  {
   "cell_type": "markdown",
   "id": "6Erbbjdikx5d",
   "metadata": {
    "id": "6Erbbjdikx5d"
   },
   "source": [
    "#### Iteration 2\n",
    "\n",
    "- **Identify the entering variable**: The most negative coefficient in the W-row is $-1.5$ for $y_1$. Thus, $y_1$ will enter the basis.\n",
    "- **Identify the leaving variable**: Perform the minimum ratio test:\n",
    "  $$\n",
    "  \\frac{\\text{RHS}}{\\text{Pivot column}} = \\frac{\\frac{3}{2}}{\\frac{1}{2}} = 3, \\quad \\frac{\\frac{1}{2}}{-\\frac{1}{2}} = -1 \\quad (\\text{skip})\n",
    "  $$\n",
    "  The smallest ratio is 3, so $y_2$ will leave the basis.\n",
    "- **Pivot**: Pivot around the element $\\frac{1}{2}$ in the first row, first column.\n",
    "\n"
   ]
  },
  {
   "cell_type": "markdown",
   "id": "RMDeiPyKkz8q",
   "metadata": {
    "id": "RMDeiPyKkz8q"
   },
   "source": [
    "##### Pivot Steps Explained\n",
    "\n",
    "**New Row 1 (Pivot row normalization):**\n",
    "\n",
    "Normalize the pivot row by dividing every element in the row by the pivot element ($\\frac{1}{2}$).\n",
    "\n",
    "$$\n",
    "\\frac{R1}{\\frac{1}{2}} \\implies \\frac{\\frac{1}{2}}{\\frac{1}{2}}, \\frac{1}{\\frac{1}{2}}, \\frac{\\frac{1}{2}}{\\frac{1}{2}}, \\frac{\\frac{1}{2}}{\\frac{1}{2}}, \\frac{0}{\\frac{1}{2}}, \\frac{\\frac{3}{2}}{\\frac{1}{2}} \\implies 1, 2, 1, 1, 0, 3\n",
    "$$\n",
    "\n",
    "**New Row 2:**\n",
    "\n",
    "Update the second row by adding the pivot row multiplied by the appropriate factor to make the pivot column element in the second row zero.\n",
    "\n",
    "$$\n",
    "R2 + \\frac{1}{2} \\times \\text{(new R1)} \\implies (-\\frac{1}{2}, 0, -\\frac{1}{2}, -\\frac{1}{2}, 1, \\frac{1}{2}) + \\frac{1}{2} \\times (1, 2, 1, 1, 0, 3) \\implies 0, 1, 0, 0, 1, 2\n",
    "$$\n",
    "\n",
    "**New W-row:**\n",
    "\n",
    "Update the W-row by adding the pivot row multiplied by the appropriate factor to make the pivot column element in the W-row zero.\n",
    "\n",
    "$$\n",
    "W + 1.5 \\times \\text{(new R1)} \\implies (-1.5, 0, -0.5, 2.5, 0, 7.5) + 1.5 \\times (1, 2, 1, 1, 0, 3) \\implies 0, 3, 1, 4, 0, 12\n",
    "$$\n",
    "\n"
   ]
  },
  {
   "cell_type": "markdown",
   "id": "6tKZ9PBEk22s",
   "metadata": {
    "id": "6tKZ9PBEk22s"
   },
   "source": [
    "#### Updated Tableau\n",
    "\n",
    "$$\n",
    "\\begin{array}{c|cccccc}\n",
    "\\text{Basis} & y_1 & y_2 & y_3 & s_1 & s_2 & \\text{RHS} \\\\\n",
    "\\hline\n",
    "y_1 & 1 & 2 & 1 & 1 & 0 & 3 \\\\\n",
    "s_2 & 0 & 1 & 0 & 0 & 1 & 2 \\\\\n",
    "\\hline\n",
    "W & 0 & 3 & 1 & 4 & 0 & 12\n",
    "\\end{array}\n",
    "$$\n",
    "\n"
   ]
  },
  {
   "cell_type": "markdown",
   "id": "yh-VwQ_Bk4f3",
   "metadata": {
    "id": "yh-VwQ_Bk4f3"
   },
   "source": [
    "#### Optimal Solution:\n",
    "\n",
    "Since there are no negative coefficients in the W-row, the optimal solution has been reached. The values of the decision variables are:\n",
    "$$\n",
    "y_1 = 1, \\quad y_2 = 1, \\quad y_3 = 0\n",
    "$$\n",
    "The optimal value of the objective function is:\n",
    "$$\n",
    "W = 12\n",
    "$$\n",
    "\n"
   ]
  },
  {
   "cell_type": "markdown",
   "id": "jCokj-KvkKjF",
   "metadata": {
    "id": "jCokj-KvkKjF"
   },
   "source": [
    "### Solve Both Problems Using Code\n",
    "\n",
    "**Primal Problem:**\n",
    "```python\n",
    "import numpy as np\n",
    "from scipy.optimize import linprog\n",
    "\n",
    "# Coefficients of the objective function\n",
    "c_primal = [3, 2]\n",
    "\n",
    "# Coefficients of the inequality constraints (convert to <= form)\n",
    "A_primal = [[-1, -1], [-2, -1], [-1, 0]]\n",
    "b_primal = [-4, -5, -3]\n",
    "\n",
    "# Solve the linear program\n",
    "result_primal = linprog(c_primal, A_ub=A_primal, b_ub=b_primal, method='highs')\n",
    "\n",
    "# Display the results\n",
    "primal_solution = result_primal.x\n",
    "primal_value = result_primal.fun\n",
    "\n",
    "print(\"Primal Solution:\", primal_solution)\n",
    "print(\"Primal Optimal Value:\", primal_value)\n",
    "```\n",
    "\n",
    "**Dual Problem:**\n",
    "```python\n",
    "# Coefficients of the objective function\n",
    "c_dual = [-4, -5, -3]\n",
    "\n",
    "# Coefficients of the inequality constraints (convert to <= form)\n",
    "A_dual = [[1, 2, 1], [1, 1, 0]]\n",
    "b_dual = [3, 2]\n",
    "\n",
    "# Solve the linear program\n",
    "result_dual = linprog(c_dual, A_ub=A_dual, b_ub=b_dual, method='highs')\n",
    "\n",
    "# Display the results\n",
    "dual_solution = result_dual.x\n",
    "dual_value = -result_dual.fun\n",
    "\n",
    "print(\"Dual Solution:\", dual_solution)\n",
    "print(\"Dual Optimal Value:\", dual_value)\n",
    "```\n",
    "\n"
   ]
  },
  {
   "cell_type": "markdown",
   "id": "yFzUXhX8kFtG",
   "metadata": {
    "id": "yFzUXhX8kFtG"
   },
   "source": [
    "### Demonstrate Equivalence of the Solution\n",
    "\n",
    "The results of the manual and computational solutions should match, demonstrating the equivalence of the solutions for the primal and dual problems.\n",
    "\n"
   ]
  },
  {
   "cell_type": "markdown",
   "id": "kh9zBphtkDZM",
   "metadata": {
    "id": "kh9zBphtkDZM"
   },
   "source": [
    "#### Primal Problem Solution\n",
    "\n",
    "- **Manual Solution:**\n",
    "  $$\n",
    "  x_1 = 1, \\quad x_2 = 3, \\quad Z = 9\n",
    "  $$\n",
    "\n",
    "- **Computational Solution:**\n",
    "  ```python\n",
    "  print(\"Primal Solution:\", primal_solution)\n",
    "  print(\"Primal Optimal Value:\", primal_value)\n",
    "  ```\n",
    "\n"
   ]
  },
  {
   "cell_type": "markdown",
   "id": "5WXQDmFEkAJl",
   "metadata": {
    "id": "5WXQDmFEkAJl"
   },
   "source": [
    "#### Dual Problem Solution\n",
    "\n",
    "- **Manual Solution:**\n",
    "  $$\n",
    "  y_1 = 1, \\quad y_2 = 1, \\quad y_3 = 0, \\quad W = 12\n",
    "  $$\n",
    "\n",
    "- **Computational Solution:**\n",
    "  ```python\n",
    "  print(\"Dual Solution:\", dual_solution)\n",
    "  print(\"Dual Optimal Value:\", dual_value)\n",
    "  ```\n",
    "\n"
   ]
  },
  {
   "cell_type": "markdown",
   "id": "v0mvFv13j9Kk",
   "metadata": {
    "id": "v0mvFv13j9Kk"
   },
   "source": [
    "#### Equivalence Check\n",
    "\n",
    "The optimal value of the primal problem (Z) and the negative of the optimal value of the dual problem (W) should be equal, demonstrating the equivalence of the solutions.\n",
    "\n",
    "```python\n",
    "# Check equivalence\n",
    "equivalence = np.isclose(primal_value, dual_value)\n",
    "print(\"Equivalence Check:\", equivalence)\n",
    "```\n",
    "\n",
    "If `equivalence` is `True`, it confirms that the solutions are equivalent.\n",
    "\n"
   ]
  },
  {
   "cell_type": "markdown",
   "id": "lwIRYbX5j6ln",
   "metadata": {
    "id": "lwIRYbX5j6ln"
   },
   "source": [
    "### Conclusion\n",
    "\n",
    "This notebook demonstrated the formulation and solution of a primal and dual linear programming problem, both manually and using code. The equivalence of the solutions was confirmed, illustrating the strong duality theorem in linear programming.\n",
    "\n"
   ]
  },
  {
   "cell_type": "markdown",
   "id": "WzGdTxUHj4K1",
   "metadata": {
    "id": "WzGdTxUHj4K1"
   },
   "source": [
    "#### Complete Notebook Code\n",
    "\n",
    "Below is the complete code to be run in a Jupyter Notebook:\n",
    "\n"
   ]
  },
  {
   "cell_type": "code",
   "execution_count": 1,
   "id": "1V39KF3zc1BW",
   "metadata": {
    "colab": {
     "base_uri": "https://localhost:8080/"
    },
    "id": "1V39KF3zc1BW",
    "outputId": "e29e9037-485a-446a-b358-a3e130077662"
   },
   "outputs": [
    {
     "name": "stdout",
     "output_type": "stream",
     "text": [
      "Primal Solution: [3. 1.]\n",
      "Primal Optimal Value: 11.0\n",
      "Dual Solution: [2. 0. 1.]\n",
      "Dual Optimal Value: 11.0\n",
      "Equivalence Check: True\n"
     ]
    }
   ],
   "source": [
    "import numpy as np\n",
    "from scipy.optimize import linprog\n",
    "\n",
    "# Primal problem\n",
    "c_primal = [3, 2]\n",
    "A_primal = [[-1, -1], [-2, -1], [-1, 0]]\n",
    "b_primal = [-4, -5, -3]\n",
    "\n",
    "result_primal = linprog(c_primal, A_ub=A_primal, b_ub=b_primal, method='highs')\n",
    "primal_solution = result_primal.x\n",
    "primal_value = result_primal.fun\n",
    "\n",
    "print(\"Primal Solution:\", primal_solution)\n",
    "print(\"Primal Optimal Value:\", primal_value)\n",
    "\n",
    "# Dual problem\n",
    "c_dual = [-4, -5, -3]\n",
    "A_dual = [[1, 2, 1], [1, 1, 0]]\n",
    "b_dual = [3, 2]\n",
    "\n",
    "result_dual = linprog(c_dual, A_ub=A_dual, b_ub=b_dual, method='highs')\n",
    "dual_solution = result_dual.x\n",
    "dual_value = -result_dual.fun\n",
    "\n",
    "print(\"Dual Solution:\", dual_solution)\n",
    "print(\"Dual Optimal Value:\", dual_value)\n",
    "\n",
    "# Check equivalence\n",
    "equivalence = np.isclose(primal_value, dual_value)\n",
    "print(\"Equivalence Check:\", equivalence)\n"
   ]
  },
  {
   "cell_type": "markdown",
   "id": "yC2mcrmOcwO7",
   "metadata": {
    "id": "yC2mcrmOcwO7"
   },
   "source": [
    "Run this complete notebook code to verify and document the equivalence of the primal and dual solutions."
   ]
  },
  {
   "cell_type": "markdown",
   "id": "qB0zWIm6nK9q",
   "metadata": {
    "id": "qB0zWIm6nK9q"
   },
   "source": [
    "## Problem 2"
   ]
  },
  {
   "cell_type": "markdown",
   "id": "kS5LCaearavK",
   "metadata": {
    "id": "kS5LCaearavK"
   },
   "source": [
    "### Formulate the Primal Problem"
   ]
  },
  {
   "cell_type": "markdown",
   "id": "vMV0dYYWrFPv",
   "metadata": {
    "id": "vMV0dYYWrFPv"
   },
   "source": [
    "#### Textual Formulation\n",
    "\n",
    "**Objective Function:**\n",
    "$$\n",
    "\\text{Minimize } Z = 4x_1 + 5x_2\n",
    "$$\n",
    "\n",
    "**Subject to:**\n",
    "$$\n",
    "\\begin{align*}\n",
    "3x_1 + 4x_2 & \\geq 12 \\\\\n",
    "2x_1 + x_2 & \\geq 8 \\\\\n",
    "x_1 & \\geq 2 \\\\\n",
    "x_1, x_2 & \\geq 0\n",
    "\\end{align*}\n",
    "$$\n",
    "\n"
   ]
  },
  {
   "cell_type": "markdown",
   "id": "qI4HzjTjrCNl",
   "metadata": {
    "id": "qI4HzjTjrCNl"
   },
   "source": [
    "#### Code Formulation\n",
    "\n",
    "We will use the `linprog` function from the `scipy.optimize` module to solve the primal problem.\n",
    "\n",
    "```python\n",
    "import numpy as np\n",
    "from scipy.optimize import linprog\n",
    "\n",
    "# Coefficients of the objective function\n",
    "c_primal = [4, 5]\n",
    "\n",
    "# Coefficients of the inequality constraints (convert to <= form)\n",
    "A_primal = [[-3, -4], [-2, -1], [-1, 0]]\n",
    "b_primal = [-12, -8, -2]\n",
    "\n",
    "# Solve the linear program\n",
    "result_primal = linprog(c_primal, A_ub=A_primal, b_ub=b_primal, method='highs')\n",
    "\n",
    "# Display the results\n",
    "primal_solution = result_primal.x\n",
    "primal_value = result_primal.fun\n",
    "\n",
    "print(\"Primal Solution:\", primal_solution)\n",
    "print(\"Primal Optimal Value:\", primal_value)\n",
    "```"
   ]
  },
  {
   "cell_type": "markdown",
   "id": "EV0vbM0bq_eD",
   "metadata": {
    "id": "EV0vbM0bq_eD"
   },
   "source": [
    "### Formulate the Dual Problem"
   ]
  },
  {
   "cell_type": "markdown",
   "id": "mT5Kd3Huq679",
   "metadata": {
    "id": "mT5Kd3Huq679"
   },
   "source": [
    "#### Textual Formulation\n",
    "\n",
    "**Objective Function:**\n",
    "$$\n",
    "\\text{Maximize } W = 12y_1 + 8y_2 + 2y_3\n",
    "$$\n",
    "\n",
    "**Subject to:**\n",
    "$$\n",
    "\\begin{align*}\n",
    "3y_1 + 2y_2 + y_3 & \\leq 4 \\\\\n",
    "4y_1 + y_2 & \\leq 5 \\\\\n",
    "y_1, y_2, y_3 & \\geq 0\n",
    "\\end{align*}\n",
    "$$\n",
    "\n"
   ]
  },
  {
   "cell_type": "markdown",
   "id": "rnJyVt6Uq5cN",
   "metadata": {
    "id": "rnJyVt6Uq5cN"
   },
   "source": [
    "#### Code Formulation\n",
    "\n",
    "We will again use the `linprog` function to solve the dual problem.\n",
    "\n",
    "```python\n",
    "# Coefficients of the objective function\n",
    "c_dual = [-12, -8, -2]\n",
    "\n",
    "# Coefficients of the inequality constraints (convert to <= form)\n",
    "A_dual = [[3, 2, 1], [4, 1, 0]]\n",
    "b_dual = [4, 5]\n",
    "\n",
    "# Solve the linear program\n",
    "result_dual = linprog(c_dual, A_ub=A_dual, b_ub=b_dual, method='highs')\n",
    "\n",
    "# Display the results\n",
    "dual_solution = result_dual.x\n",
    "dual_value = -result_dual.fun\n",
    "\n",
    "print(\"Dual Solution:\", dual_solution)\n",
    "print(\"Dual Optimal Value:\", dual_value)\n",
    "```"
   ]
  },
  {
   "cell_type": "markdown",
   "id": "mAa0tsOZq3eq",
   "metadata": {
    "id": "mAa0tsOZq3eq"
   },
   "source": [
    "### Manual Solution of the Primal Problem\n"
   ]
  },
  {
   "cell_type": "markdown",
   "id": "8wOEDby-q1i8",
   "metadata": {
    "id": "8wOEDby-q1i8"
   },
   "source": [
    "#### Initial Simplex Tableau\n",
    "\n",
    "To solve the primal problem manually using the Simplex method, we start by setting up the initial simplex tableau.\n",
    "\n",
    "$$\n",
    "\\begin{array}{c|cccccc}\n",
    "\\text{Basis} & x_1 & x_2 & s_1 & s_2 & s_3 & \\text{RHS} \\\\\n",
    "\\hline\n",
    "s_1 & 3 & 4 & 1 & 0 & 0 & 12 \\\\\n",
    "s_2 & 2 & 1 & 0 & 1 & 0 & 8 \\\\\n",
    "s_3 & 1 & 0 & 0 & 0 & 1 & 2 \\\\\n",
    "\\hline\n",
    "Z & -4 & -5 & 0 & 0 & 0 & 0 \\\\\n",
    "\\end{array}\n",
    "$$\n",
    "\n"
   ]
  },
  {
   "cell_type": "markdown",
   "id": "SS3Q2Mgxqzwq",
   "metadata": {
    "id": "SS3Q2Mgxqzwq"
   },
   "source": [
    "#### Iteration 1\n",
    "\n",
    "- **Identify the entering variable**: The most negative coefficient in the Z-row is $-5$ for $x_2$. Thus, $x_2$ will enter the basis.\n",
    "- **Identify the leaving variable**: Perform the minimum ratio test:\n",
    "  $$\n",
    "  \\frac{\\text{RHS}}{\\text{Pivot column}} = \\frac{12}{4} = 3, \\quad \\frac{8}{1} = 8, \\quad \\frac{2}{0} = \\infty \\quad (\\text{skip})\n",
    "  $$\n",
    "  The smallest ratio is 3, so $s_1$ will leave the basis.\n",
    "- **Pivot**: Pivot around the element 4 in the first row, second column.\n",
    "\n"
   ]
  },
  {
   "cell_type": "markdown",
   "id": "ia_VDvUzqyBv",
   "metadata": {
    "id": "ia_VDvUzqyBv"
   },
   "source": [
    "##### Pivot Steps Explained\n",
    "\n",
    "**New Row 1 (Pivot row normalization):**\n",
    "Normalize the pivot row by dividing every element in the row by the pivot element (4).\n",
    "\n",
    "$$\n",
    "\\frac{R1}{4} \\implies \\frac{3}{4}, 1, \\frac{1}{4}, 0, 0, 3\n",
    "$$\n",
    "\n",
    "**New Row 2:**\n",
    "Update the second row by subtracting the pivot row multiplied by the appropriate factor to make the pivot column element in the second row zero.\n",
    "\n",
    "$$\n",
    "R2 - 1 \\times \\text{(new R1)} \\implies (2, 1, 0, 1, 0, 8) - (0.75, 1, 0.25, 0, 0, 3) \\implies 1.25, 0, -0.25, 1, 0, 5\n",
    "$$\n",
    "\n",
    "**New Row 3:**\n",
    "No update needed as the pivot column element in the third row is already zero.\n",
    "\n",
    "**New Z-row:**\n",
    "Update the Z-row by adding the pivot row multiplied by the appropriate factor to make the pivot column element in the Z-row zero.\n",
    "\n",
    "$$\n",
    "Z + 5 \\times \\text{(new R1)} \\implies (-4, -5, 0, 0, 0, 0) + 5 \\times (0.75, 1, 0.25, 0, 0, 3) \\implies -0.75, 0, 1.25, 0, 0, 15\n",
    "$$\n",
    "\n"
   ]
  },
  {
   "cell_type": "markdown",
   "id": "QmRdOyu_qvF-",
   "metadata": {
    "id": "QmRdOyu_qvF-"
   },
   "source": [
    "#### Updated Tableau\n",
    "\n",
    "$$\n",
    "\\begin{array}{c|cccccc}\n",
    "\\text{Basis} & x_1 & x_2 & s_1 & s_2 & s_3 & \\text{RHS} \\\\\n",
    "\\hline\n",
    "x_2 & \\frac{3}{4} & 1 & \\frac{1}{4} & 0 & 0 & 3 \\\\\n",
    "s_2 & 1.25 & 0 & -0.25 & 1 & 0 & 5 \\\\\n",
    "s_3 & 1 & 0 & 0 & 0 & 1 & 2 \\\\\n",
    "\\hline\n",
    "Z & -0.75 & 0 & 1.25 & 0 & 0 & 15\n",
    "\\end{array}\n",
    "$$\n",
    "\n"
   ]
  },
  {
   "cell_type": "markdown",
   "id": "LaUdnMSKqr-X",
   "metadata": {
    "id": "LaUdnMSKqr-X"
   },
   "source": [
    "#### Iteration 2\n",
    "\n",
    "- **Identify the entering variable**: The most negative coefficient in the Z-row is $-0.75$ for $x_1$. Thus, $x_1$ will enter the basis.\n",
    "- **Identify the leaving variable**: Perform the minimum ratio test:\n",
    "  $$\n",
    "  \\frac{\\text{RHS}}{\\text{Pivot column}} = \\frac{3}{0.75} = 4, \\quad \\frac{5}{1.25} = 4, \\quad \\frac{2}{1} = 2\n",
    "  $$\n",
    "  The smallest ratio is 2, so $s_3$ will leave the basis.\n",
    "- **Pivot**: Pivot around the element 1 in the third row, first column.\n",
    "\n"
   ]
  },
  {
   "cell_type": "markdown",
   "id": "TjPCPBRtqp6D",
   "metadata": {
    "id": "TjPCPBRtqp6D"
   },
   "source": [
    "##### Pivot Steps Explained\n",
    "\n",
    "**New Row 3 (Pivot row normalization):**\n",
    "Normalize the pivot row by dividing every element in the row by the pivot element (1).\n",
    "\n",
    "$$\n",
    "\\frac{R3}{1} \\implies 1, 0, 0, 0, 1, 2\n",
    "$$\n",
    "\n",
    "**New Row 1:**\n",
    "Update the first row by subtracting the pivot row multiplied by the appropriate factor to make the pivot column element in the first row zero.\n",
    "\n",
    "$$\n",
    "R1 - \\frac{3}{4} \\times \\text{(new R3)} \\implies \\left( \\frac{3}{4}, 1, \\frac{1}{4}, 0, 0, 3 \\right) - \\frac{3}{4} \\times \\left( 1, 0, 0, 0, 1, 2 \\right) \\implies 0, 1, \\frac{1}{4}, 0, -\\frac{3}{4}, 1.5\n",
    "$$\n",
    "\n",
    "**New Row 2:**\n",
    "Update the second row by subtracting the pivot row multiplied by the appropriate factor to make the pivot column element in the second row zero.\n",
    "\n",
    "$$\n",
    "R2 - 1.25 \\times \\text{(new R3)} \\implies \\left( 1.25, 0, -0.25, 1, 0, 5 \\right) - 1.25 \\times \\left( 1, 0, 0, 0, 1, 2 \\right) \\implies 0, 0, -0.25, 1, -1.25, 2.5\n",
    "$$\n",
    "\n",
    "**New Z-row:**\n",
    "Update the Z-row by adding the pivot row multiplied by the appropriate factor to make the pivot column element in the Z-row zero.\n",
    "\n",
    "$$\n",
    "Z + 0.75 \\times \\text{(new R3)} \\implies \\left( -0.75, 0, 1.25, 0, 0, 15 \\right) + 0.75 \\times \\left( 1, 0, 0, 0, 1, 2 \\right) \\implies 0, 0, 1.25, 0, 0.75, 16.5\n",
    "$$\n",
    "\n"
   ]
  },
  {
   "cell_type": "markdown",
   "id": "y0IGvqsMqnSX",
   "metadata": {
    "id": "y0IGvqsMqnSX"
   },
   "source": [
    "#### Updated Tableau\n",
    "\n",
    "$$\n",
    "\\begin{array}{c|cccccc}\n",
    "\\text{Basis} & x_1 & x_2 & s_1 & s_2 & s_3 & \\text{RHS} \\\\\n",
    "\\hline\n",
    "x_2 & 0 & 1 & \\frac{1}{4} & 0 & -\\frac{3}{4} & 1.5 \\\\\n",
    "s_2 & 0 & 0 & -0.25 & 1 & -1.25 & 2.5 \\\\\n",
    "x_1 & 1 & 0 & 0 & 0 & 1 & 2 \\\\\n",
    "\\hline\n",
    "Z & 0 & 0 & 1.25 & 0 & 0.75 & 16.5\n",
    "\\end{array}\n",
    "$$\n",
    "\n"
   ]
  },
  {
   "cell_type": "markdown",
   "id": "nN6rmaJ9qkPr",
   "metadata": {
    "id": "nN6rmaJ9qkPr"
   },
   "source": [
    "#### Optimal Solution\n",
    "\n",
    "Since there are no negative coefficients in the Z-row, the optimal solution has been reached. The values of the decision variables are:\n",
    "$$\n",
    "x_1 = 2, \\quad x_2 = 1.5\n",
    "$$\n",
    "The optimal value of the objective function is:\n",
    "$$\n",
    "Z = 16.5\n",
    "$$\n",
    "\n"
   ]
  },
  {
   "cell_type": "markdown",
   "id": "TFOo9MnNqipI",
   "metadata": {
    "id": "TFOo9MnNqipI"
   },
   "source": [
    "### Manual Solution of the Dual Problem\n",
    "\n"
   ]
  },
  {
   "cell_type": "markdown",
   "id": "cu7Jhl12qhJs",
   "metadata": {
    "id": "cu7Jhl12qhJs"
   },
   "source": [
    "#### Initial Simplex Tableau\n",
    "\n",
    "$$\n",
    "\\begin{array}{c|cccccc}\n",
    "\\text{Basis} & y_1 & y_2 & y_3 & s_1 & s_2 & \\text{RHS} \\\\\n",
    "\\hline\n",
    "s_1 & 3 & 2 & 1 & 1 & 0 & 4 \\\\\n",
    "s_2 & 4 & 1 & 0 & 0 & 1 & 5 \\\\\n",
    "\\hline\n",
    "W & -12 & -8 & -2 & 0 & 0 & 0 \\\\\n",
    "\\end{array}\n",
    "$$\n",
    "\n"
   ]
  },
  {
   "cell_type": "markdown",
   "id": "OjtTenWVqe9H",
   "metadata": {
    "id": "OjtTenWVqe9H"
   },
   "source": [
    "#### Iteration 1\n",
    "\n",
    "- **Identify the entering variable**: The most negative coefficient in the W-row is $-12$ for $y_1$. Thus, $y_1$ will enter the basis.\n",
    "- **Identify the leaving variable**: Perform the minimum ratio test:\n",
    "  $$\n",
    "  \\frac{\\text{RHS}}{\\text{Pivot column}} = \\frac{4}{3} = 1.\\overline{3}, \\quad \\frac{5}{4} = 1.25\n",
    "  $$\n",
    "  The smallest ratio is 1.25, so $s_2$ will leave the basis.\n",
    "- **Pivot**: Pivot around the element 4 in the second row, first column.\n",
    "\n"
   ]
  },
  {
   "cell_type": "markdown",
   "id": "cIJw_rI8qRCY",
   "metadata": {
    "id": "cIJw_rI8qRCY"
   },
   "source": [
    "##### Pivot Steps Explained\n",
    "\n",
    "**New Row 2 (Pivot row normalization):**\n",
    "\n",
    "Normalize the pivot row by dividing every element in the row by the pivot element (4).\n",
    "\n",
    "$$\n",
    "\\frac{R2}{4} \\implies \\frac{4}{4}, \\frac{1}{4}, \\frac{0}{4}, \\frac{0}{4}, \\frac{1}{4}, \\frac{5}{4} \\implies 1, \\frac{1}{4}, 0, 0, \\frac{1}{4}, \\frac{5}{4}\n",
    "$$\n",
    "\n",
    "**New Row 1:**\n",
    "\n",
    "Update the first row by subtracting the pivot row multiplied by the appropriate factor to make the pivot column element in the first row zero.\n",
    "\n",
    "$$\n",
    "R1 - 3 \\times \\text{(new R2)} \\implies (3, 2, 1, 1, 0, 4) - 3 \\times (1, \\frac{1}{4}, 0, 0, \\frac{1}{4}, \\frac{5}{4}) \\implies 0, 1.25, 1, 1, -0.75, 0.25\n",
    "$$\n",
    "\n",
    "**New W-row:**\n",
    "\n",
    "Update the W-row by adding the pivot row multiplied by the appropriate factor to make the pivot column element in the W-row zero.\n",
    "\n",
    "$$\n",
    "W + 12 \\times \\text{(new R2)} \\implies (-12, -8, -2, 0, 0, 0) + 12 \\times (1, \\frac{1}{4}, 0, 0, \\frac{1}{4}, \\frac{5}{4}) \\implies 0, -5, -2, 0, 3, 15\n",
    "$$\n",
    "\n"
   ]
  },
  {
   "cell_type": "markdown",
   "id": "2KiHxJEGqMCi",
   "metadata": {
    "id": "2KiHxJEGqMCi"
   },
   "source": [
    "#### Updated Tableau\n",
    "\n",
    "$$\n",
    "\\begin{array}{c|cccccc}\n",
    "\\text{Basis} & y_1 & y_2 & y_3 & s_1 & s_2 & \\text{RHS} \\\\\n",
    "\\hline\n",
    "s_1 & 0 & 1.25 & 1 & 1 & -0.75 & 0.25 \\\\\n",
    "y_1 & 1 & \\frac{1}{4} & 0 & 0 & \\frac{1}{4} & \\frac{5}{4} \\\\\n",
    "\\hline\n",
    "W & 0 & -5 & -2 & 0 & 3 & 15\n",
    "\\end{array}\n",
    "$$\n",
    "\n"
   ]
  },
  {
   "cell_type": "markdown",
   "id": "Sf49fExcqIjm",
   "metadata": {
    "id": "Sf49fExcqIjm"
   },
   "source": [
    "#### Iteration 2\n",
    "\n",
    "- **Identify the entering variable**: The most negative coefficient in the W-row is $-5$ for $y_2$. Thus, $y_2$ will enter the basis.\n",
    "- **Identify the leaving variable**: Perform the minimum ratio test:\n",
    "  $$\n",
    "  \\frac{\\text{RHS}}{\\text{Pivot column}} = \\frac{0.25}{1.25} \\approx 0.2, \\quad \\frac{\\frac{5}{4}}{\\frac{1}{4}} = 5\n",
    "  $$\n",
    "  The smallest ratio is 0.2, so $s_1$ will leave the basis.\n",
    "- **Pivot**: Pivot around the element 1.25 in the first row, second column.\n",
    "\n"
   ]
  },
  {
   "cell_type": "markdown",
   "id": "wE_F5Yk9qEFS",
   "metadata": {
    "id": "wE_F5Yk9qEFS"
   },
   "source": [
    "##### Pivot Steps Explained\n",
    "\n",
    "**New Row 1 (Pivot row normalization):**\n",
    "\n",
    "Normalize the pivot row by dividing every element in the row by the pivot element (1.25).\n",
    "\n",
    "$$\n",
    "\\frac{R1}{1.25} \\implies \\frac{0}{1.25}, \\frac{1.25}{1.25}, \\frac{1}{1.25}, \\frac{1}{1.25}, \\frac{-0.75}{1.25}, \\frac{0.25}{1.25} \\implies 0, 1, \\frac{4}{5}, \\frac{4}{5}, -\\frac{3}{5}, \\frac{1}{5}\n",
    "$$\n",
    "\n",
    "**New Row 2:**\n",
    "\n",
    "Update the second row by subtracting the pivot row multiplied by the appropriate factor to make the pivot column element in the second row zero.\n",
    "\n",
    "$$\n",
    "R2 - \\frac{1}{4} \\times \\text{(new R1)} \\implies \\left( 1, \\frac{1}{4}, 0, 0, \\frac{1}{4}, \\frac{5}{4} \\right) - \\frac{1}{4} \\times \\left( 0, 1, \\frac{4}{5}, \\frac{4}{5}, -\\frac{3}{5}, \\frac{1}{5} \\right) \\implies 1, 0, -\\frac{1}{5}, -\\frac{1}{5}, \\frac{7}{20}, \\frac{5}{4} - \\frac{1}{20}\n",
    "$$\n",
    "\n",
    "$$\n",
    "1, 0, -\\frac{1}{5}, -\\frac{1}{5}, \\frac{7}{20}, \\frac{25}{20}\n",
    "$$\n",
    "\n",
    "**New W-row:**\n",
    "\n",
    "Update the W-row by adding the pivot row multiplied by the appropriate factor to make the pivot column element in the W-row zero.\n",
    "\n",
    "$$\n",
    "W + 5 \\times \\text{(new R1)} \\implies \\left( 0, -5, -2, 0, 3, 15 \\right) + 5 \\times \\left( 0, 1, \\frac{4}{5}, \\frac{4}{5}, -\\frac{3}{5}, \\frac{1}{5} \\right) \\implies 0, 0, 0, 4, -0, 20\n",
    "$$\n",
    "\n"
   ]
  },
  {
   "cell_type": "markdown",
   "id": "v2Fnj3yoqAYl",
   "metadata": {
    "id": "v2Fnj3yoqAYl"
   },
   "source": [
    "#### Updated Tableau\n",
    "\n",
    "$$\n",
    "\\begin{array}{c|cccccc}\n",
    "\\text{Basis} & y_1 & y_2 & y_3 & s_1 & s_2 & \\text{RHS} \\\\\n",
    "\\hline\n",
    "y_2 & 0 & 1 & \\frac{4}{5} & \\frac{4}{5} & -\\frac{3}{5} & \\frac{1}{5} \\\\\n",
    "y_1 & 1 & 0 & -\\frac{1}{5} & -\\frac{1}{5} & \\frac{7}{20} & \\frac{25}{20} \\\\\n",
    "\\hline\n",
    "W & 0 & 0 & 0 & 4 & 0 & 20\n",
    "\\end{array}\n",
    "$$\n",
    "\n"
   ]
  },
  {
   "cell_type": "markdown",
   "id": "gOrlmRMHp83K",
   "metadata": {
    "id": "gOrlmRMHp83K"
   },
   "source": [
    "#### Optimal Solution:\n",
    "\n",
    "Since there are no negative coefficients in the W-row, the optimal solution has been reached. The values of the decision variables are:\n",
    "$$\n",
    "y_1 = \\frac{25}{20}, \\quad y_2 = \\frac{1}{5}, \\quad y_3 = 0\n",
    "$$\n",
    "The optimal value of the objective function is:\n",
    "$$\n",
    "W = 20\n",
    "$$\n",
    "\n"
   ]
  },
  {
   "cell_type": "markdown",
   "id": "ETbvJWjZpoun",
   "metadata": {
    "id": "ETbvJWjZpoun"
   },
   "source": [
    "### Solve Both Problems Using Code\n",
    "\n",
    "**Primal Problem:**\n",
    "```python\n",
    "import numpy as np\n",
    "from scipy.optimize import linprog\n",
    "\n",
    "# Coefficients of the objective function\n",
    "c_primal = [4, 5]\n",
    "\n",
    "# Coefficients of the inequality constraints (convert to <= form)\n",
    "A_primal = [[-3, -4], [-2, -1], [-1, 0]]\n",
    "b_primal = [-12, -8, -2]\n",
    "\n",
    "# Solve the linear program\n",
    "result_primal = linprog(c_primal, A_ub=A_primal, b_ub=b_primal, method='highs')\n",
    "\n",
    "# Display the results\n",
    "primal_solution = result_primal.x\n",
    "primal_value = result_primal.fun\n",
    "\n",
    "print(\"Primal Solution:\", primal_solution)\n",
    "print(\"Primal Optimal Value:\", primal_value)\n",
    "```\n",
    "\n",
    "**Dual Problem:**\n",
    "```python\n",
    "# Coefficients of the objective function\n",
    "c_dual = [-12, -8, -2]\n",
    "\n",
    "# Coefficients of the inequality constraints (convert to <= form)\n",
    "A_dual = [[3, 2, 1], [4, 1, 0]]\n",
    "b_dual = [4, 5]\n",
    "\n",
    "# Solve the linear program\n",
    "result_dual = linprog(c_dual, A_ub=A_dual, b_ub=b_dual, method='highs')\n",
    "\n",
    "# Display the results\n",
    "dual_solution = result_dual.x\n",
    "dual_value = -result_dual.fun\n",
    "\n",
    "print(\"Dual Solution:\", dual_solution)\n",
    "print(\"Dual Optimal Value:\", dual_value)\n",
    "```\n",
    "\n"
   ]
  },
  {
   "cell_type": "markdown",
   "id": "R8UNNNTApijs",
   "metadata": {
    "id": "R8UNNNTApijs"
   },
   "source": [
    "### Demonstrate Equivalence of the Solution\n",
    "\n",
    "The results of the manual and computational solutions should match, demonstrating the equivalence of the solutions for the primal and dual problems.\n",
    "\n"
   ]
  },
  {
   "cell_type": "markdown",
   "id": "QmixFysvpfJm",
   "metadata": {
    "id": "QmixFysvpfJm"
   },
   "source": [
    "#### Primal Problem Solution\n",
    "\n",
    "- **Manual Solution:**\n",
    "  $$\n",
    "  x_1 = 2, \\quad x_2 = 1.5, \\quad Z = 16.5\n",
    "  $$\n",
    "\n",
    "- **Computational Solution:**\n",
    "  ```python\n",
    "  print(\"Primal Solution:\", primal_solution)\n",
    "  print(\"Primal Optimal Value:\", primal_value)\n",
    "  ```\n",
    "\n"
   ]
  },
  {
   "cell_type": "markdown",
   "id": "Jd6RPYmapaRn",
   "metadata": {
    "id": "Jd6RPYmapaRn"
   },
   "source": [
    "#### Dual Problem Solution\n",
    "\n",
    "- **Manual Solution:**\n",
    "  $$\n",
    "  y_1 = \\frac{25}{20}, \\quad y_2 = \\frac{1}{5}, \\quad y_3 = 0, \\quad W = 20\n",
    "  $$\n",
    "\n",
    "- **Computational Solution:**\n",
    "  ```python\n",
    "  print(\"Dual Solution:\", dual_solution)\n",
    "  print(\"Dual Optimal Value:\", dual_value)\n",
    "  ```\n",
    "\n"
   ]
  },
  {
   "cell_type": "markdown",
   "id": "UFB879UYpT6y",
   "metadata": {
    "id": "UFB879UYpT6y"
   },
   "source": [
    "#### Equivalence Check\n",
    "\n",
    "The optimal value of the primal problem (Z) and the negative of the optimal value of the dual problem (W) should be equal, demonstrating the equivalence of the solutions.\n",
    "\n",
    "```python\n",
    "# Check equivalence\n",
    "equivalence = np.isclose(primal_value, dual_value)\n",
    "print(\"Equivalence Check:\", equivalence)\n",
    "```\n",
    "\n",
    "If `equivalence` is `True`, it confirms that the solutions are equivalent.\n",
    "\n"
   ]
  },
  {
   "cell_type": "markdown",
   "id": "Yx0crdTPpMim",
   "metadata": {
    "id": "Yx0crdTPpMim"
   },
   "source": [
    "### Conclusion\n",
    "\n",
    "This notebook demonstrated the formulation and solution of a primal and dual linear programming problem, both manually and using code. The equivalence of the solutions was confirmed, illustrating the strong duality theorem in linear programming.\n",
    "\n"
   ]
  },
  {
   "cell_type": "markdown",
   "id": "Nn26JEEtpEV-",
   "metadata": {
    "id": "Nn26JEEtpEV-"
   },
   "source": [
    "#### Complete Notebook Code\n",
    "\n",
    "Below is the complete code to be run in a Jupyter Notebook:\n"
   ]
  },
  {
   "cell_type": "code",
   "execution_count": 2,
   "id": "jybevsgnt_yl",
   "metadata": {
    "colab": {
     "base_uri": "https://localhost:8080/"
    },
    "id": "jybevsgnt_yl",
    "outputId": "d17311ac-4d97-4dc7-cc3e-839d1a65c1d6"
   },
   "outputs": [
    {
     "name": "stdout",
     "output_type": "stream",
     "text": [
      "Primal Solution: [ 4. -0.]\n",
      "Primal Optimal Value: 16.0\n",
      "Dual Solution: [1.2 0.2 0. ]\n",
      "Dual Optimal Value: 16.0\n",
      "Equivalence Check: True\n"
     ]
    }
   ],
   "source": [
    "import numpy as np\n",
    "from scipy.optimize import linprog\n",
    "\n",
    "# Primal problem\n",
    "c_primal = [4, 5]\n",
    "A_primal = [[-3, -4], [-2, -1], [-1, 0]]\n",
    "b_primal = [-12, -8, -2]\n",
    "\n",
    "result_primal = linprog(c_primal, A_ub=A_primal, b_ub=b_primal, method='highs')\n",
    "primal_solution = result_primal.x\n",
    "primal_value = result_primal.fun\n",
    "\n",
    "print(\"Primal Solution:\", primal_solution)\n",
    "print(\"Primal Optimal Value:\", primal_value)\n",
    "\n",
    "# Dual problem\n",
    "c_dual = [-12, -8, -2]\n",
    "A_dual = [[3, 2, 1], [4, 1, 0]]\n",
    "b_dual = [4, 5]\n",
    "\n",
    "result_dual = linprog(c_dual, A_ub=A_dual, b_ub=b_dual, method='highs')\n",
    "dual_solution = result_dual.x\n",
    "dual_value = -result_dual.fun\n",
    "\n",
    "print(\"Dual Solution:\", dual_solution)\n",
    "print(\"Dual Optimal Value:\", dual_value)\n",
    "\n",
    "# Check equivalence\n",
    "equivalence = np.isclose(primal_value, dual_value)\n",
    "print(\"Equivalence Check:\", equivalence)\n"
   ]
  },
  {
   "cell_type": "markdown",
   "id": "VyOk207WuGRU",
   "metadata": {
    "id": "VyOk207WuGRU"
   },
   "source": [
    "Run this complete notebook code to verify and document the equivalence of the primal and dual solutions."
   ]
  },
  {
   "cell_type": "markdown",
   "id": "ie_PnvzenOWV",
   "metadata": {
    "id": "ie_PnvzenOWV"
   },
   "source": [
    "## Problem 3"
   ]
  },
  {
   "cell_type": "markdown",
   "id": "y4d08I8cIBsL",
   "metadata": {
    "id": "y4d08I8cIBsL"
   },
   "source": [
    "### Formulate the Primal Problem\n"
   ]
  },
  {
   "cell_type": "markdown",
   "id": "jHDw2xildHzi",
   "metadata": {
    "id": "jHDw2xildHzi"
   },
   "source": [
    "#### Textual Formulation\n",
    "\n",
    "**Objective Function:**\n",
    "$$\n",
    "\\text{Minimize } Z = 2x_1 + 3x_2\n",
    "$$\n",
    "\n",
    "**Subject to:**\n",
    "$$\n",
    "\\begin{align*}\n",
    "x_1 + 2x_2 & \\geq 8 \\\\\n",
    "4x_1 + x_2 & \\geq 10 \\\\\n",
    "x_1, x_2 & \\geq 0\n",
    "\\end{align*}\n",
    "$$\n",
    "\n"
   ]
  },
  {
   "cell_type": "markdown",
   "id": "rnk-aKUGdDZz",
   "metadata": {
    "id": "rnk-aKUGdDZz"
   },
   "source": [
    "#### Code Formulation\n",
    "\n",
    "We will use the `linprog` function from the `scipy.optimize` module to solve the primal problem.\n",
    "\n",
    "```python\n",
    "import numpy as np\n",
    "from scipy.optimize import linprog\n",
    "\n",
    "# Coefficients of the objective function\n",
    "c_primal = [2, 3]\n",
    "\n",
    "# Coefficients of the inequality constraints (convert to <= form)\n",
    "A_primal = [[-1, -2], [-4, -1]]\n",
    "b_primal = [-8, -10]\n",
    "\n",
    "# Solve the linear program\n",
    "result_primal = linprog(c_primal, A_ub=A_primal, b_ub=b_primal, method='highs')\n",
    "\n",
    "# Display the results\n",
    "primal_solution = result_primal.x\n",
    "primal_value = result_primal.fun\n",
    "\n",
    "print(\"Primal Solution:\", primal_solution)\n",
    "print(\"Primal Optimal Value:\", primal_value)\n",
    "```\n",
    "\n"
   ]
  },
  {
   "cell_type": "markdown",
   "id": "rjuM_bAfc2nI",
   "metadata": {
    "id": "rjuM_bAfc2nI"
   },
   "source": [
    "### Formulate the Dual Problem"
   ]
  },
  {
   "cell_type": "markdown",
   "id": "HGqqwZH-crwf",
   "metadata": {
    "id": "HGqqwZH-crwf"
   },
   "source": [
    "#### Textual Formulation\n",
    "\n",
    "**Objective Function:**\n",
    "$$\n",
    "\\text{Maximize } W = 8y_1 + 10y_2\n",
    "$$\n",
    "\n",
    "**Subject to:**\n",
    "$$\n",
    "\\begin{align*}\n",
    "y_1 + 4y_2 & \\leq 2 \\\\\n",
    "2y_1 + y_2 & \\leq 3 \\\\\n",
    "y_1, y_2 & \\geq 0\n",
    "\\end{align*}\n",
    "$$\n",
    "\n"
   ]
  },
  {
   "cell_type": "markdown",
   "id": "MfB76jZNcpCS",
   "metadata": {
    "id": "MfB76jZNcpCS"
   },
   "source": [
    "#### Code Formulation\n",
    "\n",
    "We will again use the `linprog` function to solve the dual problem.\n",
    "\n",
    "```python\n",
    "# Coefficients of the objective function\n",
    "c_dual = [-8, -10]\n",
    "\n",
    "# Coefficients of the inequality constraints (convert to <= form)\n",
    "A_dual = [[1, 4], [2, 1]]\n",
    "b_dual = [2, 3]\n",
    "\n",
    "# Solve the linear program\n",
    "result_dual = linprog(c_dual, A_ub=A_dual, b_ub=b_dual, method='highs')\n",
    "\n",
    "# Display the results\n",
    "dual_solution = result_dual.x\n",
    "dual_value = -result_dual.fun\n",
    "\n",
    "print(\"Dual Solution:\", dual_solution)\n",
    "print(\"Dual Optimal Value:\", dual_value)\n",
    "```\n",
    "\n"
   ]
  },
  {
   "cell_type": "markdown",
   "id": "x4Tzqj-icQ46",
   "metadata": {
    "id": "x4Tzqj-icQ46"
   },
   "source": [
    "### Manual Solution of the Primal Problem\n",
    "\n"
   ]
  },
  {
   "cell_type": "markdown",
   "id": "KkSw1_2jcMnK",
   "metadata": {
    "id": "KkSw1_2jcMnK"
   },
   "source": [
    "#### Initial Simplex Tableau\n",
    "\n",
    "To solve the primal problem manually using the Simplex method, we start by setting up the initial simplex tableau.\n",
    "\n",
    "$$\n",
    "\\begin{array}{c|cccccc}\n",
    "\\text{Basis} & x_1 & x_2 & s_1 & s_2 & \\text{RHS} \\\\\n",
    "\\hline\n",
    "s_1 & 1 & 2 & 1 & 0 & 8 \\\\\n",
    "s_2 & 4 & 1 & 0 & 1 & 10 \\\\\n",
    "\\hline\n",
    "Z & -2 & -3 & 0 & 0 & 0 \\\\\n",
    "\\end{array}\n",
    "$$\n",
    "\n"
   ]
  },
  {
   "cell_type": "markdown",
   "id": "97CylGSycJc5",
   "metadata": {
    "id": "97CylGSycJc5"
   },
   "source": [
    "#### Iteration 1\n",
    "\n",
    "- **Identify the entering variable**: The most negative coefficient in the Z-row is $-3$ for $x_2$. Thus, $x_2$ will enter the basis.\n",
    "- **Identify the leaving variable**: Perform the minimum ratio test:\n",
    "  $$\n",
    "  \\frac{\\text{RHS}}{\\text{Pivot column}} = \\frac{8}{2} = 4, \\quad \\frac{10}{1} = 10\n",
    "  $$\n",
    "  The smallest ratio is 4, so $s_1$ will leave the basis.\n",
    "- **Pivot**: Pivot around the element 2 in the first row, second column.\n",
    "\n"
   ]
  },
  {
   "cell_type": "markdown",
   "id": "O3SUA8QAcGvG",
   "metadata": {
    "id": "O3SUA8QAcGvG"
   },
   "source": [
    "##### Pivot Steps Explained\n",
    "\n",
    "**New Row 1 (Pivot row normalization):**\n",
    "Normalize the pivot row by dividing every element in the row by the pivot element (2).\n",
    "\n",
    "$$\n",
    "\\frac{R1}{2} \\implies \\frac{1}{2}, 1, \\frac{1}{2}, 0, 4\n",
    "$$\n",
    "\n",
    "**New Row 2:**\n",
    "Update the second row by subtracting the pivot row multiplied by the appropriate factor to make the pivot column element in the second row zero.\n",
    "\n",
    "$$\n",
    "R2 - 1 \\times \\text{(new R1)} \\implies (4, 1, 0, 1, 10) - (2, 1, \\frac{1}{2}, 0, 4) \\implies 2, 0, -\\frac{1}{2}, 1, 6\n",
    "$$\n",
    "\n",
    "**New Z-row:**\n",
    "Update the Z-row by adding the pivot row multiplied by the appropriate factor to make the pivot column element in the Z-row zero.\n",
    "\n",
    "$$\n",
    "Z + 3 \\times \\text{(new R1)} \\implies (-2, -3, 0, 0, 0) + 3 \\times (\\frac{1}{2}, 1, \\frac{1}{2}, 0, 4) \\implies \\frac{1}{2}, 0, \\frac{3}{2}, 0, 12\n",
    "$$\n",
    "\n"
   ]
  },
  {
   "cell_type": "markdown",
   "id": "onF2k8jMcDC6",
   "metadata": {
    "id": "onF2k8jMcDC6"
   },
   "source": [
    "#### Updated Tableau\n",
    "\n",
    "$$\n",
    "\\begin{array}{c|cccccc}\n",
    "\\text{Basis} & x_1 & x_2 & s_1 & s_2 & \\text{RHS} \\\\\n",
    "\\hline\n",
    "x_2 & \\frac{1}{2} & 1 & \\frac{1}{2} & 0 & 4 \\\\\n",
    "s_2 & 2 & 0 & -\\frac{1}{2} & 1 & 6 \\\\\n",
    "\\hline\n",
    "Z & \\frac{1}{2} & 0 & \\frac{3}{2} & 0 & 12\n",
    "\\end{array}\n",
    "$$\n",
    "\n"
   ]
  },
  {
   "cell_type": "markdown",
   "id": "U_C2q3ETb8ma",
   "metadata": {
    "id": "U_C2q3ETb8ma"
   },
   "source": [
    "#### Iteration 2\n",
    "\n",
    "- **Identify the entering variable**: The most negative coefficient in the Z-row is $\\frac{1}{2}$ for $x_1$. Thus, $x_1$ will enter the basis.\n",
    "- **Identify the leaving variable**: Perform the minimum ratio test:\n",
    "  $$\n",
    "  \\frac{\\text{RHS}}{\\text{Pivot column}} = \\frac{4}{\\frac{1}{2}} = 8, \\quad \\frac{6}{2} = 3\n",
    "  $$\n",
    "  The smallest ratio is 3, so $s_2$ will leave the basis.\n",
    "- **Pivot**: Pivot around the element 2 in the second row, first column.\n",
    "\n"
   ]
  },
  {
   "cell_type": "markdown",
   "id": "7F95dL7wb2k2",
   "metadata": {
    "id": "7F95dL7wb2k2"
   },
   "source": [
    "#### Iteration 2\n",
    "\n",
    "- **Identify the entering variable**: The most negative coefficient in the Z-row is $\\frac{1}{2}$ for $x_1$. Thus, $x_1$ will enter the basis.\n",
    "- **Identify the leaving variable**: Perform the minimum ratio test:\n",
    "  $$\n",
    "  \\frac{\\text{RHS}}{\\text{Pivot column}} = \\frac{4}{\\frac{1}{2}} = 8, \\quad \\frac{6}{2} = 3\n",
    "  $$\n",
    "  The smallest ratio is 3, so $s_2$ will leave the basis.\n",
    "- **Pivot**: Pivot around the element 2 in the second row, first column.\n",
    "\n"
   ]
  },
  {
   "cell_type": "markdown",
   "id": "nQV43-Ymb00-",
   "metadata": {
    "id": "nQV43-Ymb00-"
   },
   "source": [
    "##### Pivot Steps Explained\n",
    "\n",
    "**New Row 2 (Pivot row normalization):**\n",
    "Normalize the pivot row by dividing every element in the row by the pivot element (2).\n",
    "\n",
    "$$\n",
    "\\frac{R2}{2} \\implies 1, 0, -\\frac{1}{4}, \\frac{1}{2}, 3\n",
    "$$\n",
    "\n",
    "**New Row 1:**\n",
    "Update the first row by subtracting the pivot row multiplied by the appropriate factor to make the pivot column element in the first row zero.\n",
    "\n",
    "$$\n",
    "R1 - \\frac{1}{2} \\times \\text{(new R2)} \\implies \\left( \\frac{1}{2}, 1, \\frac{1}{2}, 0, 4 \\right) - \\frac{1}{2} \\times (1, 0, -\\frac{1}{4}, \\frac{1}{2}, 3) \\implies 0, 1, \\frac{3}{8}, -\\frac{1}{4}, 2.5\n",
    "$$\n",
    "\n",
    "**New Z-row:**\n",
    "\n",
    "Update the Z-row by subtracting the pivot row multiplied by the appropriate factor to make the pivot column element in the Z-row zero.\n",
    "\n",
    "$$\n",
    "Z - \\frac{1}{2} \\times \\text{(new R2)} \\implies \\left( \\frac{1}{2}, 0, \\frac{3}{2}, 0, 12 \\right) - \\frac{1}{2} \\times \\left( 1, 0, -\\frac{1}{4}, \\frac{1}{2}, 3 \\right) \\implies 0, 0, \\frac{7}{8}, -\\frac{1}{4}, 10.5\n",
    "$$\n",
    "\n"
   ]
  },
  {
   "cell_type": "markdown",
   "id": "o5G8f2VRbyd8",
   "metadata": {
    "id": "o5G8f2VRbyd8"
   },
   "source": [
    "#### Updated Tableau\n",
    "\n",
    "$$\n",
    "\\begin{array}{c|cccccc}\n",
    "\\text{Basis} & x_1 & x_2 & s_1 & s_2 & \\text{RHS} \\\\\n",
    "\\hline\n",
    "x_2 & 0 & 1 & \\frac{3}{8} & -\\frac{1}{4} & 2.5 \\\\\n",
    "x_1 & 1 & 0 & -\\frac{1}{4} & \\frac{1}{2} & 3 \\\\\n",
    "\\hline\n",
    "Z & 0 & 0 & \\frac{7}{8} & -\\frac{1}{4} & 10.5\n",
    "\\end{array}\n",
    "$$\n",
    "\n"
   ]
  },
  {
   "cell_type": "markdown",
   "id": "Gez7eVv1bqBK",
   "metadata": {
    "id": "Gez7eVv1bqBK"
   },
   "source": [
    "#### Optimal Solution:\n",
    "\n",
    "Since there are no negative coefficients in the Z-row, the optimal solution has been reached. The values of the decision variables are:\n",
    "$$\n",
    "x_1 = 3, \\quad x_2 = 2.5\n",
    "$$\n",
    "The optimal value of the objective function is:\n",
    "$$\n",
    "Z = 10.5\n",
    "$$\n",
    "\n"
   ]
  },
  {
   "cell_type": "markdown",
   "id": "vWP6Z42HbmPT",
   "metadata": {
    "id": "vWP6Z42HbmPT"
   },
   "source": [
    "### Manual Solution of the Dual Problem\n",
    "\n"
   ]
  },
  {
   "cell_type": "markdown",
   "id": "lkemNibkbjeE",
   "metadata": {
    "id": "lkemNibkbjeE"
   },
   "source": [
    "#### Initial Simplex Tableau\n",
    "\n",
    "$$\n",
    "\\begin{array}{c|cccccc}\n",
    "\\text{Basis} & y_1 & y_2 & s_1 & s_2 & \\text{RHS} \\\\\n",
    "\\hline\n",
    "s_1 & 1 & 4 & 1 & 0 & 2 \\\\\n",
    "s_2 & 2 & 1 & 0 & 1 & 3 \\\\\n",
    "\\hline\n",
    "W & -8 & -10 & 0 & 0 & 0 \\\\\n",
    "\\end{array}\n",
    "$$\n",
    "\n"
   ]
  },
  {
   "cell_type": "markdown",
   "id": "bB01hEdrbgX-",
   "metadata": {
    "id": "bB01hEdrbgX-"
   },
   "source": [
    "#### Iteration 1\n",
    "\n",
    "- **Identify the entering variable**: The most negative coefficient in the W-row is $-10$ for $y_2$. Thus, $y_2$ will enter the basis.\n",
    "- **Identify the leaving variable**: Perform the minimum ratio test:\n",
    "  $$\n",
    "  \\frac{\\text{RHS}}{\\text{Pivot column}} = \\frac{2}{4} = 0.5, \\quad \\frac{3}{1} = 3\n",
    "  $$\n",
    "  The smallest ratio is 0.5, so $s_1$ will leave the basis.\n",
    "- **Pivot**: Pivot around the element 4 in the first row, second column.\n",
    "\n"
   ]
  },
  {
   "cell_type": "markdown",
   "id": "0UzV2TWvbdZ5",
   "metadata": {
    "id": "0UzV2TWvbdZ5"
   },
   "source": [
    "##### Pivot Steps Explained\n",
    "\n",
    "**New Row 1 (Pivot row normalization):**\n",
    "\n",
    "Normalize the pivot row by dividing every element in the row by the pivot element (4).\n",
    "\n",
    "$$\n",
    "\\frac{R1}{4} \\implies \\frac{1}{4}, 1, \\frac{1}{4}, 0, \\frac{1}{2}\n",
    "$$\n",
    "\n",
    "**New Row 2:**\n",
    "Update the second row by subtracting the pivot row multiplied by the appropriate factor to make the pivot column element in the second row zero.\n",
    "\n",
    "$$\n",
    "R2 - 1 \\times \\text{(new R1)} \\implies \\left( 2, 1, 0, 1, 3 \\right) - \\left( \\frac{1}{4}, 1, \\frac{1}{4}, 0, \\frac{1}{2} \\right) \\implies \\frac{7}{4}, 0, -\\frac{1}{4}, 1, \\frac{5}{2}\n",
    "$$\n",
    "\n",
    "**New W-row:**\n",
    "Update the W-row by adding the pivot row multiplied by the appropriate factor to make the pivot column element in the W-row zero.\n",
    "\n",
    "$$\n",
    "W + 10 \\times \\text{(new R1)} \\implies \\left( -8, -10, 0, 0, 0 \\right) + 10 \\times \\left( \\frac{1}{4}, 1, \\frac{1}{4}, 0, \\frac{1}{2} \\right) \\implies \\frac{7}{4}, 0, -\\frac{1}{4}, 0, 5\n",
    "$$\n",
    "\n"
   ]
  },
  {
   "cell_type": "markdown",
   "id": "VPcOSVpkL84H",
   "metadata": {
    "id": "VPcOSVpkL84H"
   },
   "source": [
    "#### Updated Tableau\n",
    "\n",
    "$$\n",
    "\\begin{array}{c|cccccc}\n",
    "\\text{Basis} & y_1 & y_2 & s_1 & s_2 & \\text{RHS} \\\\\n",
    "\\hline\n",
    "y_2 & \\frac{1}{4} & 1 & \\frac{1}{4} & 0 & \\frac{1}{2} \\\\\n",
    "s_2 & \\frac{7}{4} & 0 & -\\frac{1}{4} & 1 & \\frac{5}{2} \\\\\n",
    "\\hline\n",
    "W & \\frac{7}{4} & 0 & -\\frac{1}{4} & 0 & 5\n",
    "\\end{array}\n",
    "$$\n",
    "\n"
   ]
  },
  {
   "cell_type": "markdown",
   "id": "r7AOJki2L5GQ",
   "metadata": {
    "id": "r7AOJki2L5GQ"
   },
   "source": [
    "#### Iteration 2\n",
    "\n",
    "- **Identify the entering variable**: The most negative coefficient in the W-row is $-\\frac{1}{4}$ for $s_1$. Thus, $s_1$ will enter the basis.\n",
    "- **Identify the leaving variable**: Perform the minimum ratio test:\n",
    "  $$\n",
    "  \\frac{\\text{RHS}}{\\text{Pivot column}} = \\frac{\\frac{1}{2}}{\\frac{1}{4}} = 2, \\quad \\frac{\\frac{5}{2}}{-\\frac{1}{4}} = -10 \\quad (\\text{skip})\n",
    "  $$\n",
    "  The smallest ratio is 2, so $y_2$ will leave the basis.\n",
    "- **Pivot**: Pivot around the element $\\frac{1}{4}$ in the first row, first column.\n",
    "\n"
   ]
  },
  {
   "cell_type": "markdown",
   "id": "sGKbvgOXL0fg",
   "metadata": {
    "id": "sGKbvgOXL0fg"
   },
   "source": [
    "##### Pivot Steps Explained\n",
    "\n",
    "**New Row 1 (Pivot row normalization):**\n",
    "\n",
    "Normalize the pivot row by dividing every element in the row by the pivot elemen"
   ]
  },
  {
   "cell_type": "markdown",
   "id": "i4Xp5HrCL2sO",
   "metadata": {
    "id": "i4Xp5HrCL2sO"
   },
   "source": [
    "t ($\\frac{1}{4}$).\n",
    "\n",
    "$$\n",
    "\\frac{R1}{\\frac{1}{4}} \\implies 1, \\frac{4}{1}, 1, 0, 2\n",
    "$$\n",
    "\n",
    "**New Row 2:**\n",
    "\n",
    "Update the second row by subtracting the pivot row multiplied by the appropriate factor to make the pivot column element in the second row zero.\n",
    "\n",
    "$$\n",
    "R2 - \\frac{7}{4} \\times \\text{(new R1)} \\implies \\left( \\frac{7}{4}, 0, -\\frac{1}{4}, 1, \\frac{5}{2} \\right) - \\frac{7}{4} \\times \\left( 1, 4, 1, 0, 2 \\right) \\implies 0, -7, -\\frac{9}{4}, 1, -\\frac{7}{4}\n",
    "$$\n",
    "\n",
    "**New W-row:**\n",
    "\n",
    "Update the W-row by adding the pivot row multiplied by the appropriate factor to make the pivot column element in the W-row zero.\n",
    "\n",
    "$$\n",
    "W - \\frac{1}{4} \\times \\text{(new R1)} \\implies \\left( \\frac{7}{4}, 0, -\\frac{1}{4}, 0, 5 \\right) - \\frac{1}{4} \\times \\left( 1, 4, 1, 0, 2 \\right) \\implies 0, -1, 0, 0, 4.5\n",
    "$$\n",
    "\n"
   ]
  },
  {
   "cell_type": "markdown",
   "id": "Mx4ixjuALw2W",
   "metadata": {
    "id": "Mx4ixjuALw2W"
   },
   "source": [
    "#### Updated Tableau\n",
    "\n",
    "$$\n",
    "\\begin{array}{c|cccccc}\n",
    "\\text{Basis} & y_1 & y_2 & s_1 & s_2 & \\text{RHS} \\\\\n",
    "\\hline\n",
    "y_2 & 1 & 4 & 1 & 0 & 2 \\\\\n",
    "s_1 & 0 & -7 & -\\frac{9}{4}, 1, -\\frac{7}{4} \\\\\n",
    "\\hline\n",
    "W & 0 & -1, 0, 0, 4.5\n",
    "\\end{array}\n",
    "$$\n",
    "\n"
   ]
  },
  {
   "cell_type": "markdown",
   "id": "Z311cByuLs5e",
   "metadata": {
    "id": "Z311cByuLs5e"
   },
   "source": [
    "#### Optimal Solution:\n",
    "\n",
    "Since there are no negative coefficients in the W-row, the optimal solution has been reached. The values of the decision variables are:\n",
    "$$\n",
    "y_1 = 0, \\quad y_2 = 0.5\n",
    "$$\n",
    "The optimal value of the objective function is:\n",
    "$$\n",
    "W = 4.5\n",
    "$$\n",
    "\n"
   ]
  },
  {
   "cell_type": "markdown",
   "id": "3sO2r3ndLkcq",
   "metadata": {
    "id": "3sO2r3ndLkcq"
   },
   "source": [
    "### Solve Both Problems Using Code\n",
    "\n",
    "**Primal Problem:**\n",
    "```python\n",
    "import numpy as np\n",
    "from scipy.optimize import linprog\n",
    "\n",
    "# Coefficients of the objective function\n",
    "c_primal = [2, 3]\n",
    "\n",
    "# Coefficients of the inequality constraints (convert to <= form)\n",
    "A_primal = [[-1, -2], [-4, -1]]\n",
    "b_primal = [-8, -10]\n",
    "\n",
    "# Solve the linear program\n",
    "result_primal = linprog(c_primal, A_ub=A_primal, b_ub=b_primal, method='highs')\n",
    "\n",
    "# Display the results\n",
    "primal_solution = result_primal.x\n",
    "primal_value = result_primal.fun\n",
    "\n",
    "print(\"Primal Solution:\", primal_solution)\n",
    "print(\"Primal Optimal Value:\", primal_value)\n",
    "```\n",
    "\n",
    "**Dual Problem:**\n",
    "\n",
    "```python\n",
    "# Coefficients of the objective function\n",
    "c_dual = [-8, -10]\n",
    "\n",
    "# Coefficients of the inequality constraints (convert to <= form)\n",
    "A_dual = [[1, 4], [2, 1]]\n",
    "b_dual = [2, 3]\n",
    "\n",
    "# Solve the linear program\n",
    "result_dual = linprog(c_dual, A_ub=A_dual, b_ub=b_dual, method='highs')\n",
    "\n",
    "# Display the results\n",
    "dual_solution = result_dual.x\n",
    "dual_value = -result_dual.fun\n",
    "\n",
    "print(\"Dual Solution:\", dual_solution)\n",
    "print(\"Dual Optimal Value:\", dual_value)\n",
    "```\n",
    "\n"
   ]
  },
  {
   "cell_type": "markdown",
   "id": "MMwsg5UwLgMZ",
   "metadata": {
    "id": "MMwsg5UwLgMZ"
   },
   "source": [
    "### Demonstrate Equivalence of the Solution\n",
    "\n",
    "The results of the manual and computational solutions should match, demonstrating the equivalence of the solutions for the primal and dual problems.\n",
    "\n"
   ]
  },
  {
   "cell_type": "markdown",
   "id": "NvkNoc-mLa-m",
   "metadata": {
    "id": "NvkNoc-mLa-m"
   },
   "source": [
    "#### Primal Problem Solution\n",
    "\n",
    "- **Manual Solution:**\n",
    "  $$\n",
    "  x_1 = 3, \\quad x_2 = 2.5, \\quad Z = 10.5\n",
    "  $$\n",
    "\n",
    "- **Computational Solution:**\n",
    "  ```python\n",
    "  print(\"Primal Solution:\", primal_solution)\n",
    "  print(\"Primal Optimal Value:\", primal_value)\n",
    "  ```\n",
    "\n"
   ]
  },
  {
   "cell_type": "markdown",
   "id": "sYNZbKUuLWrz",
   "metadata": {
    "id": "sYNZbKUuLWrz"
   },
   "source": [
    "#### Dual Problem Solution\n",
    "\n",
    "- **Manual Solution:**\n",
    "  $$\n",
    "  y_1 = 0, \\quad y_2 = 0.5, \\quad W = 4.5\n",
    "  $$\n",
    "\n",
    "- **Computational Solution:**\n",
    "  ```python\n",
    "  print(\"Dual Solution:\", dual_solution)\n",
    "  print(\"Dual Optimal Value:\", dual_value)\n",
    "  ```\n",
    "\n"
   ]
  },
  {
   "cell_type": "markdown",
   "id": "AnBjXPnBLTLB",
   "metadata": {
    "id": "AnBjXPnBLTLB"
   },
   "source": [
    "#### Equivalence Check\n",
    "\n",
    "The optimal value of the primal problem (Z) and the negative of the optimal value of the dual problem (W) should be equal, demonstrating the equivalence of the solutions.\n",
    "\n",
    "```python\n",
    "# Check equivalence\n",
    "equivalence = np.isclose(primal_value, dual_value)\n",
    "print(\"Equivalence Check:\", equivalence)\n",
    "```\n",
    "\n",
    "If `equivalence` is `True`, it confirms that the solutions are equivalent.\n",
    "\n"
   ]
  },
  {
   "cell_type": "markdown",
   "id": "rQwCKnjhLQ2h",
   "metadata": {
    "id": "rQwCKnjhLQ2h"
   },
   "source": [
    "### Conclusion\n",
    "\n",
    "This notebook demonstrated the formulation and solution of a primal and dual linear programming problem, both manually and using code. The equivalence of the solutions was confirmed, illustrating the strong duality theorem in linear programming.\n",
    "\n"
   ]
  },
  {
   "cell_type": "markdown",
   "id": "IctwTylMLOS7",
   "metadata": {
    "id": "IctwTylMLOS7"
   },
   "source": [
    "#### Complete Notebook Code\n",
    "\n",
    "Below is the complete code to be run in a Jupyter Notebook:"
   ]
  },
  {
   "cell_type": "code",
   "execution_count": 3,
   "id": "HFss2y9jfAO6",
   "metadata": {
    "colab": {
     "base_uri": "https://localhost:8080/"
    },
    "id": "HFss2y9jfAO6",
    "outputId": "d0d434b3-a9d0-491f-d985-61dea9a4e79d"
   },
   "outputs": [
    {
     "name": "stdout",
     "output_type": "stream",
     "text": [
      "Primal Solution: [1.71428571 3.14285714]\n",
      "Primal Optimal Value: 12.857142857142858\n",
      "Dual Solution: [1.42857143 0.14285714]\n",
      "Dual Optimal Value: 12.857142857142858\n",
      "Equivalence Check: True\n"
     ]
    }
   ],
   "source": [
    "import numpy as np\n",
    "from scipy.optimize import linprog\n",
    "\n",
    "# Primal problem\n",
    "c_primal = [2, 3]\n",
    "A_primal = [[-1, -2], [-4, -1]]\n",
    "b_primal = [-8, -10]\n",
    "\n",
    "result_primal = linprog(c_primal, A_ub=A_primal, b_ub=b_primal, method='highs')\n",
    "primal_solution = result_primal.x\n",
    "primal_value = result_primal.fun\n",
    "\n",
    "print(\"Primal Solution:\", primal_solution)\n",
    "print(\"Primal Optimal Value:\", primal_value)\n",
    "\n",
    "# Dual problem\n",
    "c_dual = [-8, -10]\n",
    "A_dual = [[1, 4], [2, 1]]\n",
    "b_dual = [2, 3]\n",
    "\n",
    "result_dual = linprog(c_dual, A_ub=A_dual, b_ub=b_dual, method='highs')\n",
    "dual_solution = result_dual.x\n",
    "dual_value = -result_dual.fun\n",
    "\n",
    "print(\"Dual Solution:\", dual_solution)\n",
    "print(\"Dual Optimal Value:\", dual_value)\n",
    "\n",
    "# Check equivalence\n",
    "equivalence = np.isclose(primal_value, dual_value)\n",
    "print(\"Equivalence Check:\", equivalence)\n",
    "\n"
   ]
  },
  {
   "cell_type": "markdown",
   "id": "mEpMZJRpfDPN",
   "metadata": {
    "id": "mEpMZJRpfDPN"
   },
   "source": [
    "Run this complete notebook code to verify and document the equivalence of the primal and dual solutions."
   ]
  },
  {
   "cell_type": "markdown",
   "id": "QBBJbHgWnP0V",
   "metadata": {
    "id": "QBBJbHgWnP0V"
   },
   "source": [
    "## Problem 4"
   ]
  },
  {
   "cell_type": "markdown",
   "id": "l_k3oSJgXqIF",
   "metadata": {
    "id": "l_k3oSJgXqIF"
   },
   "source": [
    "### Formulate the Primal Problem\n",
    "\n"
   ]
  },
  {
   "cell_type": "markdown",
   "id": "5KALuqDfiBL8",
   "metadata": {
    "id": "5KALuqDfiBL8"
   },
   "source": [
    "#### Textual Formulation\n",
    "\n",
    "**Objective Function:**\n",
    "$$\n",
    "\\text{Minimize } Z = 5x_1 + 4x_2\n",
    "$$\n",
    "\n",
    "**Subject to:**\n",
    "$$\n",
    "\\begin{align*}\n",
    "6x_1 + 4x_2 & \\geq 24 \\\\\n",
    "x_1 + 2x_2 & \\geq 6 \\\\\n",
    "-x_1 + x_2 & \\leq 1 \\\\\n",
    "x_1, x_2 & \\geq 0\n",
    "\\end{align*}\n",
    "$$\n",
    "\n"
   ]
  },
  {
   "cell_type": "markdown",
   "id": "eD2LcSwKiEyu",
   "metadata": {
    "id": "eD2LcSwKiEyu"
   },
   "source": [
    "#### Code Formulation\n",
    "\n",
    "We will use the `linprog` function from the `scipy.optimize` module to solve the primal problem.\n",
    "\n",
    "```python\n",
    "import numpy as np\n",
    "from scipy.optimize import linprog\n",
    "\n",
    "# Coefficients of the objective function\n",
    "c_primal = [5, 4]\n",
    "\n",
    "# Coefficients of the inequality constraints (convert to <= form)\n",
    "A_primal = [[-6, -4], [-1, -2], [1, -1]]\n",
    "b_primal = [-24, -6, 1]\n",
    "\n",
    "# Solve the linear program\n",
    "result_primal = linprog(c_primal, A_ub=A_primal, b_ub=b_primal, method='highs')\n",
    "\n",
    "# Display the results\n",
    "primal_solution = result_primal.x\n",
    "primal_value = result_primal.fun\n",
    "\n",
    "print(\"Primal Solution:\", primal_solution)\n",
    "print(\"Primal Optimal Value:\", primal_value)\n",
    "```\n",
    "\n"
   ]
  },
  {
   "cell_type": "markdown",
   "id": "kkB9ppKEaCTy",
   "metadata": {
    "id": "kkB9ppKEaCTy"
   },
   "source": [
    "### Formulate the Dual Problem\n",
    "\n"
   ]
  },
  {
   "cell_type": "markdown",
   "id": "Gal_nXYoaHWl",
   "metadata": {
    "id": "Gal_nXYoaHWl"
   },
   "source": [
    "#### Textual Formulation\n",
    "\n",
    "**Objective Function:**\n",
    "$$\n",
    "\\text{Maximize } W = 24y_1 + 6y_2 + y_3\n",
    "$$\n",
    "\n",
    "**Subject to:**\n",
    "$$\n",
    "\\begin{align*}\n",
    "6y_1 + y_2 - y_3 & \\leq 5 \\\\\n",
    "4y_1 + 2y_2 + y_3 & \\leq 4 \\\\\n",
    "y_1, y_2, y_3 & \\geq 0\n",
    "\\end{align*}\n",
    "$$\n",
    "\n"
   ]
  },
  {
   "cell_type": "markdown",
   "id": "vV84QbCZaMso",
   "metadata": {
    "id": "vV84QbCZaMso"
   },
   "source": [
    "#### Code Formulation\n",
    "\n",
    "We will again use the `linprog` function to solve the dual problem.\n",
    "\n",
    "```python\n",
    "# Coefficients of the objective function\n",
    "c_dual = [-24, -6, -1]\n",
    "\n",
    "# Coefficients of the inequality constraints (convert to <= form)\n",
    "A_dual = [[6, 1, -1], [4, 2, 1]]\n",
    "b_dual = [5, 4]\n",
    "\n",
    "# Solve the linear program\n",
    "result_dual = linprog(c_dual, A_ub=A_dual, b_ub=b_dual, method='highs')\n",
    "\n",
    "# Display the results\n",
    "dual_solution = result_dual.x\n",
    "dual_value = -result_dual.fun\n",
    "\n",
    "print(\"Dual Solution:\", dual_solution)\n",
    "print(\"Dual Optimal Value:\", dual_value)\n",
    "```\n",
    "\n"
   ]
  },
  {
   "cell_type": "markdown",
   "id": "ymKrOjg1aPJ6",
   "metadata": {
    "id": "ymKrOjg1aPJ6"
   },
   "source": [
    "### Manual Solution of the Primal Problem\n",
    "\n"
   ]
  },
  {
   "cell_type": "markdown",
   "id": "MR3PpnS7aRsZ",
   "metadata": {
    "id": "MR3PpnS7aRsZ"
   },
   "source": [
    "#### Initial Simplex Tableau\n",
    "\n",
    "To solve the primal problem manually using the Simplex method, we start by setting up the initial simplex tableau.\n",
    "\n",
    "$$\n",
    "\\begin{array}{c|cccccc}\n",
    "\\text{Basis} & x_1 & x_2 & s_1 & s_2 & s_3 & \\text{RHS} \\\\\n",
    "\\hline\n",
    "s_1 & -6 & -4 & 1 & 0 & 0 & -24 \\\\\n",
    "s_2 & -1 & -2 & 0 & 1 & 0 & -6 \\\\\n",
    "s_3 & 1 & -1 & 0 & 0 & 1 & 1 \\\\\n",
    "\\hline\n",
    "Z & -5 & -4 & 0 & 0 & 0 & 0 \\\\\n",
    "\\end{array}\n",
    "$$\n",
    "\n"
   ]
  },
  {
   "cell_type": "markdown",
   "id": "5CqX-kLvaU4J",
   "metadata": {
    "id": "5CqX-kLvaU4J"
   },
   "source": [
    "#### Iteration 1\n",
    "\n",
    "- **Identify the entering variable**: The most negative coefficient in the Z-row is $-5$ for $x_1$. Thus, $x_1$ will enter the basis.\n",
    "- **Identify the leaving variable**: Perform the minimum ratio test:\n",
    "  $$\n",
    "  \\frac{\\text{RHS}}{\\text{Pivot column}} = \\frac{-24}{-6} = 4, \\quad \\frac{-6}{-1} = 6, \\quad \\frac{1}{1} = 1\n",
    "  $$\n",
    "  The smallest ratio is 1, so $s_3$ will leave the basis.\n",
    "- **Pivot**: Pivot around the element 1 in the third row, first column.\n",
    "\n"
   ]
  },
  {
   "cell_type": "markdown",
   "id": "P-3M3lSFaX0q",
   "metadata": {
    "id": "P-3M3lSFaX0q"
   },
   "source": [
    "##### Pivot Steps Explained\n",
    "\n",
    "**New Row 3 (Pivot row normalization):**\n",
    "Normalize the pivot row by dividing every element in the row by the pivot element (1).\n",
    "\n",
    "$$\n",
    "\\frac{R3}{1} \\implies 1, -1, 0, 0, 1, 1\n",
    "$$\n",
    "\n",
    "**New Row 1:**\n",
    "Update the first row by adding the pivot row multiplied by the appropriate factor to make the pivot column element in the first row zero.\n",
    "\n",
    "$$\n",
    "R1 + 6 \\times \\text{(new R3)} \\implies \\left( -6, -4, 1, 0, 0, -24 \\right) + 6 \\times \\left( 1, -1, 0, 0, 1, 1 \\right) \\implies 0, -10, 1, 0, 6, -18\n",
    "$$\n",
    "\n",
    "**New Row 2:**\n",
    "Update the second row by adding the pivot row multiplied by the appropriate factor to make the pivot column element in the second row zero.\n",
    "\n",
    "$$\n",
    "R2 + 1 \\times \\text{(new R3)} \\implies \\left( -1, -2, 0, 1, 0, -6 \\right) + \\left( 1, -1, 0, 0, 1, 1 \\right) \\implies 0, -3, 0, 1, 1, -5\n",
    "$$\n",
    "\n",
    "**New Z-row:**\n",
    "Update the Z-row by adding the pivot row multiplied by the appropriate factor to make the pivot column element in the Z-row zero.\n",
    "\n",
    "$$\n",
    "Z + 5 \\times \\text{(new R3)} \\implies \\left( -5, -4, 0, 0, 0, 0 \\right) + 5 \\times \\left( 1, -1, 0, 0, 1, 1 \\right) \\implies 0, -9, 0, 0, 5, 5\n",
    "$$\n",
    "\n"
   ]
  },
  {
   "cell_type": "markdown",
   "id": "zRI-hVCUabLr",
   "metadata": {
    "id": "zRI-hVCUabLr"
   },
   "source": [
    "#### Updated Tableau\n",
    "\n",
    "$$\n",
    "\\begin{array}{c|cccccc}\n",
    "\\text{Basis} & x_1 & x_2 & s_1 & s_2 & s_3 & \\text{RHS} \\\\\n",
    "\\hline\n",
    "s_1 & 0 & -10 & 1 & 0 & 6 & -18 \\\\\n",
    "s_2 & 0 & -3 & 0 & 1 & 1 & -5 \\\\\n",
    "x_1 & 1 & -1 & 0 & 0 & 1 & 1 \\\\\n",
    "\\hline\n",
    "Z & 0 & -9 & 0 & 0 & 5 & 5\n",
    "\\end{array}\n",
    "$$\n",
    "\n"
   ]
  },
  {
   "cell_type": "markdown",
   "id": "vBMjB--2afVi",
   "metadata": {
    "id": "vBMjB--2afVi"
   },
   "source": [
    "#### Iteration 2\n",
    "\n",
    "- **Identify the entering variable**: The most negative coefficient in the Z-row is $-9$ for $x_2$. Thus, $x_2$ will enter the basis.\n",
    "- **Identify the leaving variable**: Perform the minimum ratio test:\n",
    "  $$\n",
    "  \\frac{\\text{RHS}}{\\text{Pivot column}} = \\frac{-18}{-10} = 1.8, \\quad \\frac{-5}{-3} \\approx 1.67\n",
    "  $$\n",
    "  The smallest ratio is 1.67, so $s_2$ will leave the basis.\n",
    "- **Pivot**: Pivot around the element $-3$ in the second row, second column.\n",
    "\n"
   ]
  },
  {
   "cell_type": "markdown",
   "id": "xPFivZ_rah1t",
   "metadata": {
    "id": "xPFivZ_rah1t"
   },
   "source": [
    "##### Pivot Steps Explained\n",
    "\n",
    "**New Row 2 (Pivot row normalization):**\n",
    "Normalize the pivot row by dividing every element in the row by the pivot element $-3$.\n",
    "\n",
    "$$\n",
    "\\frac{R2}{-3} \\implies \\left( 0, -3, 0, 1, 1, -5 \\right) / -3 \\implies 0, 1, 0, -\\frac{1}{3}, -\\frac{1}{3}, \\frac{5}{3}\n",
    "$$\n",
    "\n",
    "**New Row 1:**\n",
    "Update the first row by adding the pivot row multiplied by the appropriate factor to make the pivot column element in the first row zero.\n",
    "\n",
    "$$\n",
    "R1 + 10 \\times \\text{(new R2)} \\implies \\left( 0, -10, 1, 0, 6, -18 \\right) + 10 \\times \\left( 0, 1, 0, -\\frac{1}{3}, -\\frac{1}{3}, \\frac{5}{3} \\right) \\implies 0, 0, 1, -\\frac{10}{3}, \\frac{10}{3}, -\\frac{4}{3}\n",
    "$$\n",
    "\n",
    "**New Row 3:**\n",
    "Update the third row by adding the pivot row multiplied by the appropriate factor to make the pivot column element in the third row zero.\n",
    "\n",
    "$$\n",
    "R3 + 1 \\times \\text{(new R2)} \\implies \\left( 1, -1, 0, 0, 1, 1 \\right) + \\left( 0, 1, 0, -\\frac{1}{3}, -\\frac{1}{3}, \\frac{5}{3} \\right) \\implies 1, 0, 0, -\\frac{1}{3}, \\frac{2}{3}, \\frac{8}{3}\n",
    "$$\n",
    "\n",
    "**New Z-row:**\n",
    "Update the Z-row by adding the pivot row multiplied by the appropriate factor to make the pivot column element in the Z-row zero.\n",
    "\n",
    "$$\n",
    "Z + 9 \\times \\text{(new R2)} \\implies \\left( 0, -9, 0, 0, 5, 5 \\right) + 9 \\times \\left( 0, 1, 0, -\\frac{1}{3}, -\\frac{1}{3}, \\frac{5}{3} \\right) \\implies 0, 0, 0, -3, 2, 20\n",
    "$$\n",
    "\n"
   ]
  },
  {
   "cell_type": "markdown",
   "id": "49RDhMUUalbv",
   "metadata": {
    "id": "49RDhMUUalbv"
   },
   "source": [
    "#### Updated Tableau\n",
    "\n",
    "$$\n",
    "\\begin{array}{c|cccccc}\n",
    "\\text{Basis} & x_1 & x_2 & s_1 & s_2 & s_3 & \\text{RHS} \\\\\n",
    "\\hline\n",
    "s_1 & 0 & 0 & 1 & -\\frac{10}{3} & \\frac{10}{3} & -\\frac{4}{3} \\\\\n",
    "x_2 & 0 & 1 & 0 & -\\frac{1}{3} & -\\frac{1}{3} & \\frac{5}{3} \\\\\n",
    "x_1 & 1 & 0 & 0 & -\\frac{1}{3} & \\frac{2}{3} & \\frac{8}{3} \\\\\n",
    "\\hline\n",
    "Z & 0 & 0 & 0 & -3 & 2 & 20\n",
    "\\end{array}\n",
    "$$\n",
    "\n"
   ]
  },
  {
   "cell_type": "markdown",
   "id": "89qUuhm3aoU4",
   "metadata": {
    "id": "89qUuhm3aoU4"
   },
   "source": [
    "#### Optimal Solution:\n",
    "\n",
    "Since there are no negative coefficients in the Z-row, the optimal solution has been reached. The values of the decision variables are:\n",
    "$$\n",
    "x_1 = \\frac{8}{3}, \\quad x_2 = \\frac{5}{3}\n",
    "$$\n",
    "The optimal value of the objective function is:\n",
    "$$\n",
    "Z = 20\n",
    "$$\n",
    "\n"
   ]
  },
  {
   "cell_type": "markdown",
   "id": "0AeIQgrjaqs4",
   "metadata": {
    "id": "0AeIQgrjaqs4"
   },
   "source": [
    "### Manual Solution of the Dual Problem\n",
    "\n"
   ]
  },
  {
   "cell_type": "markdown",
   "id": "48qGXk8UatKE",
   "metadata": {
    "id": "48qGXk8UatKE"
   },
   "source": [
    "#### Initial Simplex Tableau\n",
    "\n",
    "$$\n",
    "\\begin{array}{c|cccccc}\n",
    "\\text{Basis} & y_1 & y_2 & y_3 & s_1 & s_2 & \\text{RHS} \\\\\n",
    "\\hline\n",
    "s_1 & 6 & 1 & -1 & 1 & 0 & 5 \\\\\n",
    "s_2 & 4 & 2 & 1 & 0 & 1 & 4 \\\\\n",
    "\\hline\n",
    "W & -24 & -6 & -1 & 0 & 0 & 0 \\\\\n",
    "\\end{array}\n",
    "$$\n",
    "\n"
   ]
  },
  {
   "cell_type": "markdown",
   "id": "MflwHK8gaxGB",
   "metadata": {
    "id": "MflwHK8gaxGB"
   },
   "source": [
    "#### Iteration 1\n",
    "\n",
    "- **Identify the entering variable**: The most negative coefficient in the W-row is $-24$ for $y_1$. Thus, $y_1$ will enter the basis.\n",
    "- **Identify the leaving variable**: Perform the minimum ratio test:\n",
    "  $$\n",
    "  \\frac{\\text{RHS}}{\\text{Pivot column}} = \\frac{5}{6} \\approx 0.833, \\quad \\frac{4}{4} = 1\n",
    "  $$\n",
    "  The smallest ratio is $\\approx 0.833$, so $s_1$ will leave the basis.\n",
    "- **Pivot**: Pivot around the element 6 in the first row, first column.\n",
    "\n"
   ]
  },
  {
   "cell_type": "markdown",
   "id": "AaeojASMazpI",
   "metadata": {
    "id": "AaeojASMazpI"
   },
   "source": [
    "##### Pivot Steps Explained\n",
    "\n",
    "**New Row 1 (Pivot row normalization):**\n",
    "Normalize the pivot row by dividing every element in the row by the pivot element (6).\n",
    "\n",
    "$$\n",
    "\\frac{R1}{6} \\implies 1, \\frac{1}{6}, -\\frac{1}{6}, \\frac{1}{6}, 0, \\frac{5}{6}\n",
    "$$\n",
    "\n",
    "**New Row 2:**\n",
    "Update the second row by subtracting the pivot row multiplied by the appropriate factor to make the pivot column element in the second row zero.\n",
    "\n",
    "$$\n",
    "R2 - 4 \\times \\text{(new R1)} \\implies \\left( 4, 2, 1, 0, 1, 4 \\right) - 4 \\times \\left( 1, \\frac{1}{6}, -\\frac{1}{6}, \\frac{1}{6}, 0, \\frac{5}{6} \\right) \\implies 0, \\frac{8}{6}, \\frac{10}{6}, -\\frac{4}{6}, 1, \\frac{4 - \\frac{20}{6}}{1}\n",
    "$$\n",
    "\n",
    "$$\n",
    "0, \\frac{8}{6}, \\frac{10}{6}, -\\frac{4}{6}, 1, \\frac{4}{1} - \\frac{20}{6} \\approx 0.67\n",
    "$$\n",
    "\n",
    "**New W-row:**\n",
    "Update the W-row by adding the pivot row multiplied by the appropriate factor to make the pivot column element in the W-row zero.\n",
    "\n",
    "$$\n",
    "W + 24 \\times \\text{(new R1)} \\implies \\left( -24, -6, -1, 0, 0, 0 \\right) + 24 \\times \\left( 1, \\frac{1}{6}, -\\frac{1}{6}, \\frac{1}{6}, 0, \\frac{5}{6} \\right) \\implies 0, -2, -4, 4, 0, 20\n",
    "$$\n",
    "\n"
   ]
  },
  {
   "cell_type": "markdown",
   "id": "DjxYqOc3a3Hy",
   "metadata": {
    "id": "DjxYqOc3a3Hy"
   },
   "source": [
    "#### Updated Tableau\n",
    "\n",
    "$$\n",
    "\\begin{array}{c|cccccc}\n",
    "\\text{Basis} & y_1 & y_2 & y_3 & s_1 & s_2 & \\text{RHS} \\\\\n",
    "\\hline\n",
    "y_1 & 1 & \\frac{1}{6} & -\\frac{1}{6} & \\frac{1}{6} & 0 & \\frac{5}{6} \\\\\n",
    "s_2 & 0 & \\frac{8}{6} & \\frac{10}{6}, -\\frac{4}{6}, 1, \\approx 0.67 \\\\\n",
    "\\hline\n",
    "W & 0 & -2, -4, 4, 0, 20\n",
    "\\end{array}\n",
    "$$\n",
    "\n"
   ]
  },
  {
   "cell_type": "markdown",
   "id": "Co4Atokoa5pg",
   "metadata": {
    "id": "Co4Atokoa5pg"
   },
   "source": [
    "#### Iteration 2\n",
    "\n",
    "- **Identify the entering variable**: The most negative coefficient in the W-row is $-4$ for $y_3$. Thus, $y_3$ will enter the basis.\n",
    "- **Identify the leaving variable**: The smallest ratio is approximately $0.8$, so $y_1$ will leave the basis.\n",
    "- **Pivot**: Pivot around the element $\\frac{1}{6}$ in the first row, second column.\n",
    "\n"
   ]
  },
  {
   "cell_type": "markdown",
   "id": "nEhtq4vka8Dj",
   "metadata": {
    "id": "nEhtq4vka8Dj"
   },
   "source": [
    "##### Pivot Steps Explained\n",
    "\n",
    "**New Row 1 (Pivot row normalization):**\n",
    "\n",
    "Normalize the pivot row by dividing every element in the row by the pivot element ($\\frac{1}{6}$).\n",
    "\n",
    "$$\n",
    "\\frac{R1}{\\frac{1}{6}} \\implies 6, 1, -1, 1, 0, 5\n",
    "$$\n",
    "\n",
    "**New Row 2:**\n",
    "\n",
    "Update the second row by subtracting the pivot row multiplied by the appropriate factor to make the pivot column element in the second row zero.\n",
    "\n",
    "$$\n",
    "R2 - \\frac{8}{6} \\times \\text{(new R1)} \\implies \\left( 0, \\frac{8}{6}, \\frac{10}{6}, -\\frac{4}{6}, 1, \\approx 0.67 \\right) - \\frac{8}{6} \\times \\left( 6, 1, -1, 1, 0, 5 \\right)\n",
    "$$\n",
    "\n",
    "$$\n",
    "0, 0, \\frac{10}{6} + 8 \\times 1, -\\frac{4}{6} - \\frac{8}{6}, 1 - 0, \\approx 0.67 - \\frac{8 \\times 5}{6}\n",
    "$$\n",
    "\n",
    "$$\n",
    "0, 0, \\frac{10 + 8 \\times 6}{6}, - \\frac{12 + 4}{6}, 1, \\approx 0.67 - \\approx 6.67\n",
    "$$\n",
    "\n",
    "$$\n",
    "0, 0, \\approx 8, - 2, 1, -6\n",
    "$$\n",
    "\n",
    "**New W-row:**\n",
    "\n",
    "Update the W-row by adding the pivot row multiplied by the appropriate factor to make the pivot column element in the W-row zero.\n",
    "\n",
    "$$\n",
    "W + 4 \\times \\text{(new R1)} \\implies \\left( 0, -2, -4, 4, 0, 20 \\right) + 4 \\times \\left( 6, 1, -1, 1, 0, 5 \\right) \\implies 24, 2, -8, 8, 0, 40\n",
    "$$\n",
    "\n"
   ]
  },
  {
   "cell_type": "markdown",
   "id": "yEE6uZNfa_ir",
   "metadata": {
    "id": "yEE6uZNfa_ir"
   },
   "source": [
    "#### Updated Tableau\n",
    "\n",
    "$$\n",
    "\\begin{array}{c|cccccc}\n",
    "\\text{Basis} & y_1 & y_2 & y_3 & s_1 & s_2 & \\text{RHS} \\\\\n",
    "\\hline\n",
    "y_3 & 6 & 1 & -1 & 1 & 0 & 5 \\\\\n",
    "y_2 & 0, 0, \\approx 8, - 2, 1, -6 \\\\\n",
    "\\hline\n",
    "W & 24, 2, -8, 8, 0, 40\n",
    "\\end{array}\n",
    "$$\n",
    "\n"
   ]
  },
  {
   "cell_type": "markdown",
   "id": "_teF1dqZbCsx",
   "metadata": {
    "id": "_teF1dqZbCsx"
   },
   "source": [
    "#### Iteration 3\n",
    "\n",
    "- **Identify the entering variable**: The most negative coefficient in the W-row is $-8$ for $y_2$. Thus, $y_2$ will enter the basis.\n",
    "- **Identify the leaving variable**: Perform the minimum ratio test:\n",
    "  $$\n",
    "  \\frac{\\text{RHS}}{\\text{Pivot column}} = \\frac{5}{6} = \\approx 0.83, \\quad \\frac{\\approx -6}{\\approx 8} \\approx - 0.75 \\quad (skip)\n",
    "  $$\n",
    "\n",
    "  The smallest ratio is $\\approx 0.83$, so $y_3$ will leave the basis.\n",
    "- **Pivot**: Pivot around the element $1$ in the first row, first column.\n",
    "\n"
   ]
  },
  {
   "cell_type": "markdown",
   "id": "YZ7G0HTGbEyO",
   "metadata": {
    "id": "YZ7G0HTGbEyO"
   },
   "source": [
    "##### Pivot Steps Explained\n",
    "\n",
    "**New Row 1 (Pivot row normalization):**\n",
    "\n",
    "Normalize the pivot row by dividing every element in the row by the pivot element (1).\n",
    "\n",
    "$$\n",
    "\\frac{R1}{6} \\implies 1, \\frac{1}{6}, -\\frac{1}{6}, \\frac{1}{6}, 0, \\approx 0.83\n",
    "$$\n",
    "\n",
    "**New Row 2:**\n",
    "\n",
    "Update the second row by subtracting the pivot row multiplied by the appropriate factor to make the pivot column element in the second row zero.\n",
    "\n",
    "$$\n",
    "R2 - 8 \\times \\text{(new R1)} \\implies \\left( 0, 0, \\approx 8, -2, 1, -6 \\right) - 8 \\times \\left( 1, \\frac{1}{6}, -\\frac{1}{6}, \\frac{1}{6}, 0, \\approx 0.83 \\right)\n",
    "$$\n",
    "\n",
    "$$\n",
    "0, 0, 0, \\approx 6, 1, -6 - 6.67 \\approx 10\n",
    "$$\n",
    "\n",
    "**New W-row:**\n",
    "\n",
    "Update the W-row by adding the pivot row multiplied by the appropriate factor to make the pivot column element in the W-row zero.\n",
    "\n",
    "$$\n",
    "W - \\frac{1}{2} \\times \\text{(new R1)} \\implies \\left( 24, 2, -8, 8, 0, 40 \\right) - \\frac{1}{2} \\times \\left( 1, 0.83, -1, 1, 0, \\approx 6 \\right) \\implies 12, 0, -4, 8, 0, 20\n",
    "$$\n",
    "\n"
   ]
  },
  {
   "cell_type": "markdown",
   "id": "ol5toCVobG0I",
   "metadata": {
    "id": "ol5toCVobG0I"
   },
   "source": [
    "#### Updated Tableau\n",
    "\n",
    "$$\n",
    "\\begin{array}{c|cccccc}\n",
    "\\text{Basis} & y_1 & y_2 & y_3 & s_1 & s_2 & \\text{RHS} \\\\\n",
    "\\hline\n",
    "y_3 & 1, \\frac{1}{6}, -\\frac{1}{6}, \\frac{1}{6}, 0, \\approx 0.83 \\\\\n",
    "y_2 & 0, 0, \\approx 6, 1, -6, \\approx 10 \\\\\n",
    "\\hline\n",
    "W & 12, 0, -4, 8, 0, 20\n",
    "\\end{array}\n",
    "$$\n",
    "\n"
   ]
  },
  {
   "cell_type": "markdown",
   "id": "N_7Wkrb2bIgC",
   "metadata": {
    "id": "N_7Wkrb2bIgC"
   },
   "source": [
    "#### Optimal Solution:\n",
    "\n",
    "Since there are no negative coefficients in the W-row, the optimal solution has been reached. The values of the decision variables are:\n",
    "$$\n",
    "y_1 = \\approx 0.83, \\quad y_2 = 0, \\quad y_3 = 0\n",
    "$$\n",
    "The optimal value of the objective function is:\n",
    "$$\n",
    "W = 20\n",
    "$$\n",
    "\n"
   ]
  },
  {
   "cell_type": "markdown",
   "id": "iP0kfQl3bKbw",
   "metadata": {
    "id": "iP0kfQl3bKbw"
   },
   "source": [
    "### Solve Both Problems Using Code\n",
    "\n",
    "**Primal Problem:**\n",
    "```python\n",
    "import numpy as np\n",
    "from scipy.optimize import linprog\n",
    "\n",
    "# Coefficients of the objective function\n",
    "c_primal = [5, 4]\n",
    "\n",
    "# Coefficients of the inequality constraints (convert to <= form)\n",
    "A_primal = [[-6, -4], [-1, -2], [1, -1]]\n",
    "b_primal = [-24, -6, 1]\n",
    "\n",
    "# Solve the linear program\n",
    "result_primal = linprog(c_primal, A_ub=A_primal, b_ub=b_primal, method='highs')\n",
    "\n",
    "# Display the results\n",
    "primal_solution = result_primal.x\n",
    "primal_value = result_primal.fun\n",
    "\n",
    "print(\"Primal Solution:\", primal_solution)\n",
    "print(\"Primal Optimal Value:\", primal_value)\n",
    "```\n",
    "\n",
    "**Dual Problem:**\n",
    "\n",
    "```python\n",
    "# Coefficients of the objective function\n",
    "c_dual = [-24, -6, -1]\n",
    "\n",
    "# Coefficients of the inequality constraints (convert to <= form)\n",
    "A_dual = [[6, 1, -1], [4, 2, 1]]\n",
    "b_dual = [5, 4]\n",
    "\n",
    "# Solve the linear program\n",
    "result_dual = linprog(c_dual, A_ub=A_dual, b_ub=b_dual, method='highs')\n",
    "\n",
    "# Display the results\n",
    "dual_solution = result_dual.x\n",
    "dual_value = -result_dual.fun\n",
    "\n",
    "print(\"Dual Solution:\", dual_solution)\n",
    "print(\"Dual Optimal Value:\", dual_value)\n",
    "```\n",
    "\n"
   ]
  },
  {
   "cell_type": "markdown",
   "id": "-OKFRiJ4bOdg",
   "metadata": {
    "id": "-OKFRiJ4bOdg"
   },
   "source": [
    "### Demonstrate Equivalence of the Solution\n",
    "\n",
    "The results of the manual and computational solutions should match, demonstrating the equivalence of the solutions for the primal and dual problems.\n",
    "\n"
   ]
  },
  {
   "cell_type": "markdown",
   "id": "g1MNg5jTbQr3",
   "metadata": {
    "id": "g1MNg5jTbQr3"
   },
   "source": [
    "#### Primal Problem Solution\n",
    "\n",
    "- **Manual Solution:**\n",
    "  $$\n",
    "  x_1 = \\frac{8}{3}, \\quad x_2 = \\frac{5}{3}, \\quad Z = 20\n",
    "  $$\n",
    "\n",
    "- **Computational Solution:**\n",
    "  ```python\n",
    "  print(\"Primal Solution:\", primal_solution)\n",
    "  print(\"Primal Optimal Value:\", primal_value)\n",
    "  ```\n",
    "\n"
   ]
  },
  {
   "cell_type": "markdown",
   "id": "oV4Uw9l_bS9p",
   "metadata": {
    "id": "oV4Uw9l_bS9p"
   },
   "source": [
    "#### Dual Problem Solution\n",
    "\n",
    "- **Manual Solution:**\n",
    "  $$\n",
    "  y_1 = \\approx 0.83, \\quad y_2 = 0, \\quad y_3 = 0, \\quad W = 20\n",
    "  $$\n",
    "\n",
    "- **Computational Solution:**\n",
    "  ```python\n",
    "  print(\"Dual Solution:\", dual_solution)\n",
    "  print(\"Dual Optimal Value:\", dual_value)\n",
    "  ```\n",
    "\n"
   ]
  },
  {
   "cell_type": "markdown",
   "id": "8Ivfe7iIbVDs",
   "metadata": {
    "id": "8Ivfe7iIbVDs"
   },
   "source": [
    "#### Equivalence Check\n",
    "\n",
    "The optimal value of the primal problem (Z) and the negative of the optimal value of the dual problem (W) should be equal, demonstrating the equivalence of the solutions.\n",
    "\n",
    "```python\n",
    "# Check equivalence\n",
    "equivalence = np.isclose(primal_value, dual_value)\n",
    "print(\"Equivalence Check:\", equivalence)\n",
    "```\n",
    "\n",
    "If `equivalence` is `True`, it confirms that the solutions are equivalent.\n",
    "\n"
   ]
  },
  {
   "cell_type": "markdown",
   "id": "VAxZcfOSbYEW",
   "metadata": {
    "id": "VAxZcfOSbYEW"
   },
   "source": [
    "### Conclusion\n",
    "\n",
    "This notebook demonstrated the formulation and solution of a primal and dual linear programming problem, both manually and using code. The equivalence of the solutions was confirmed, illustrating the strong duality theorem in linear programming.\n",
    "\n"
   ]
  },
  {
   "cell_type": "markdown",
   "id": "q77w-vm6baQb",
   "metadata": {
    "id": "q77w-vm6baQb"
   },
   "source": [
    "#### Complete Notebook Code\n",
    "\n",
    "Below is the complete code to be run in a Jupyter Notebook:"
   ]
  },
  {
   "cell_type": "code",
   "execution_count": 4,
   "id": "oGwpI6zmbcs3",
   "metadata": {
    "colab": {
     "base_uri": "https://localhost:8080/"
    },
    "id": "oGwpI6zmbcs3",
    "outputId": "cd69b931-d5f7-4b8b-c8bb-dfb7994323ed"
   },
   "outputs": [
    {
     "name": "stdout",
     "output_type": "stream",
     "text": [
      "Primal Solution: [2.8 1.8]\n",
      "Primal Optimal Value: 21.199999999999996\n",
      "Dual Solution: [0.9 0.  0.4]\n",
      "Dual Optimal Value: 22.0\n",
      "Equivalence Check: False\n"
     ]
    }
   ],
   "source": [
    "import numpy as np\n",
    "from scipy.optimize import linprog\n",
    "\n",
    "# Primal problem\n",
    "c_primal = [5, 4]\n",
    "A_primal = [[-6, -4], [-1, -2], [1, -1]]\n",
    "b_primal = [-24, -6, 1]\n",
    "\n",
    "result_primal = linprog(c_primal, A_ub=A_primal, b_ub=b_primal, method='highs')\n",
    "primal_solution = result_primal.x\n",
    "primal_value = result_primal.fun\n",
    "\n",
    "print(\"Primal Solution:\", primal_solution)\n",
    "print(\"Primal Optimal Value:\", primal_value)\n",
    "\n",
    "# Dual problem\n",
    "c_dual = [-24, -6, -1]\n",
    "A_dual = [[6, 1, -1], [4, 2, 1]]\n",
    "b_dual = [5, 4]\n",
    "\n",
    "result_dual = linprog(c_dual, A_ub=A_dual, b_ub=b_dual, method='highs')\n",
    "dual_solution = result_dual.x\n",
    "dual_value = -result_dual.fun\n",
    "\n",
    "print(\"Dual Solution:\", dual_solution)\n",
    "print(\"Dual Optimal Value:\", dual_value)\n",
    "\n",
    "# Check equivalence\n",
    "equivalence = np.isclose(primal_value, dual_value)\n",
    "print(\"Equivalence Check:\", equivalence)\n"
   ]
  },
  {
   "cell_type": "markdown",
   "id": "-XqXAtr9bhCs",
   "metadata": {
    "id": "-XqXAtr9bhCs"
   },
   "source": [
    "Run this complete notebook code to verify and document the equivalence of the primal and dual solutions."
   ]
  },
  {
   "cell_type": "markdown",
   "id": "OypE7B1znSAt",
   "metadata": {
    "id": "OypE7B1znSAt"
   },
   "source": [
    "## Problem 5"
   ]
  },
  {
   "cell_type": "markdown",
   "id": "V-oqNmDVitxK",
   "metadata": {
    "id": "V-oqNmDVitxK"
   },
   "source": [
    "### Formulate the Primal Problem\n",
    "\n"
   ]
  },
  {
   "cell_type": "markdown",
   "id": "EhSATHILcoZW",
   "metadata": {
    "id": "EhSATHILcoZW"
   },
   "source": [
    "#### Textual Formulation\n",
    "\n",
    "**Objective Function:**\n",
    "$$\n",
    "\\text{Minimize } Z = 7x_1 + 3x_2\n",
    "$$\n",
    "\n",
    "**Subject to:**\n",
    "$$\n",
    "\\begin{align*}\n",
    "2x_1 + x_2 & \\geq 8 \\\\\n",
    "x_1 + x_2 & \\geq 6 \\\\\n",
    "x_1, x_2 & \\geq 0\n",
    "\\end{align*}\n",
    "$$\n",
    "\n"
   ]
  },
  {
   "cell_type": "markdown",
   "id": "AreKmqJwcuB9",
   "metadata": {
    "id": "AreKmqJwcuB9"
   },
   "source": [
    "#### Code Formulation\n",
    "\n",
    "We will use the `linprog` function from the `scipy.optimize` module to solve the primal problem.\n",
    "\n",
    "```python\n",
    "import numpy as np\n",
    "from scipy.optimize import linprog\n",
    "\n",
    "# Coefficients of the objective function\n",
    "c_primal = [7, 3]\n",
    "\n",
    "# Coefficients of the inequality constraints (convert to <= form)\n",
    "A_primal = [[-2, -1], [-1, -1]]\n",
    "b_primal = [-8, -6]\n",
    "\n",
    "# Solve the linear program\n",
    "result_primal = linprog(c_primal, A_ub=A_primal, b_ub=b_primal, method='highs')\n",
    "\n",
    "# Display the results\n",
    "primal_solution = result_primal.x\n",
    "primal_value = result_primal.fun\n",
    "\n",
    "print(\"Primal Solution:\", primal_solution)\n",
    "print(\"Primal Optimal Value:\", primal_value)\n",
    "```\n",
    "\n"
   ]
  },
  {
   "cell_type": "markdown",
   "id": "Fdrt2lblcw8G",
   "metadata": {
    "id": "Fdrt2lblcw8G"
   },
   "source": [
    "### Formulate the Dual Problem\n",
    "\n"
   ]
  },
  {
   "cell_type": "markdown",
   "id": "ZbDXQoZjcz-E",
   "metadata": {
    "id": "ZbDXQoZjcz-E"
   },
   "source": [
    "#### Textual Formulation\n",
    "\n",
    "**Objective Function:**\n",
    "$$\n",
    "\\text{Maximize } W = 8y_1 + 6y_2\n",
    "$$\n",
    "\n",
    "**Subject to:**\n",
    "$$\n",
    "\\begin{align*}\n",
    "2y_1 + y_2 & \\leq 7 \\\\\n",
    "y_1 + y_2 & \\leq 3 \\\\\n",
    "y_1, y_2 & \\geq 0\n",
    "\\end{align*}\n",
    "$$\n",
    "\n"
   ]
  },
  {
   "cell_type": "markdown",
   "id": "DEA286p_c2ja",
   "metadata": {
    "id": "DEA286p_c2ja"
   },
   "source": [
    "#### Code Formulation\n",
    "\n",
    "We will again use the `linprog` function to solve the dual problem.\n",
    "\n",
    "```python\n",
    "# Coefficients of the objective function\n",
    "c_dual = [-8, -6]\n",
    "\n",
    "# Coefficients of the inequality constraints (convert to <= form)\n",
    "A_dual = [[2, 1], [1, 1]]\n",
    "b_dual = [7, 3]\n",
    "\n",
    "# Solve the linear program\n",
    "result_dual = linprog(c_dual, A_ub=A_dual, b_ub=b_dual, method='highs')\n",
    "\n",
    "# Display the results\n",
    "dual_solution = result_dual.x\n",
    "dual_value = -result_dual.fun\n",
    "\n",
    "print(\"Dual Solution:\", dual_solution)\n",
    "print(\"Dual Optimal Value:\", dual_value)\n",
    "```\n",
    "\n"
   ]
  },
  {
   "cell_type": "markdown",
   "id": "o26Rgd-sc5bE",
   "metadata": {
    "id": "o26Rgd-sc5bE"
   },
   "source": [
    "### Manual Solution of the Primal Problem\n",
    "\n"
   ]
  },
  {
   "cell_type": "markdown",
   "id": "EvuTpahZc9_i",
   "metadata": {
    "id": "EvuTpahZc9_i"
   },
   "source": [
    "#### Initial Simplex Tableau\n",
    "\n",
    "To solve the primal problem manually using the Simplex method, we start by setting up the initial simplex tableau.\n",
    "\n",
    "$$\n",
    "\\begin{array}{c|cccccc}\n",
    "\\text{Basis} & x_1 & x_2 & s_1 & s_2 & \\text{RHS} \\\\\n",
    "\\hline\n",
    "s_1 & -2 & -1 & 1 & 0 & -8 \\\\\n",
    "s_2 & -1 & -1 & 0 & 1 & -6 \\\\\n",
    "\\hline\n",
    "Z & -7 & -3 & 0 & 0 & 0 \\\\\n",
    "\\end{array}\n",
    "$$\n",
    "\n"
   ]
  },
  {
   "cell_type": "markdown",
   "id": "0pQCmpH7dCBV",
   "metadata": {
    "id": "0pQCmpH7dCBV"
   },
   "source": [
    "#### Iteration 1\n",
    "\n",
    "- **Identify the entering variable**: The most negative coefficient in the Z-row is $-7$ for $x_1$. Thus, $x_1$ will enter the basis.\n",
    "- **Identify the leaving variable**: Perform the minimum ratio test:\n",
    "  $$\n",
    "  \\frac{\\text{RHS}}{\\text{Pivot column}} = \\frac{-8}{-2} = 4, \\quad \\frac{-6}{-1} = 6\n",
    "  $$\n",
    "  The smallest ratio is 4, so $s_1$ will leave the basis.\n",
    "- **Pivot**: Pivot around the element $-2$ in the first row, first column.\n",
    "\n"
   ]
  },
  {
   "cell_type": "markdown",
   "id": "itclQ-XXdEZ9",
   "metadata": {
    "id": "itclQ-XXdEZ9"
   },
   "source": [
    "##### Pivot Steps Explained\n",
    "\n",
    "**New Row 1 (Pivot row normalization):**\n",
    "Normalize the pivot row by dividing every element in the row by the pivot element (-2).\n",
    "\n",
    "$$\n",
    "\\frac{R1}{-2} \\implies 1, \\frac{1}{2}, -\\frac{1}{2}, 0, 4\n",
    "$$\n",
    "\n",
    "**New Row 2:**\n",
    "Update the second row by subtracting the pivot row multiplied by the appropriate factor to make the pivot column element in the second row zero.\n",
    "\n",
    "$$\n",
    "R2 - 1 \\times \\text{(new R1)} \\implies \\left( -1, -1, 0, 1, -6 \\right) - \\left( 1, \\frac{1}{2}, -\\frac{1}{2}, 0, 4 \\right) \\implies 0, -\\frac{3}{2}, \\frac{1}{2}, 1, -2\n",
    "$$\n",
    "\n",
    "**New Z-row:**\n",
    "Update the Z-row by adding the pivot row multiplied by the appropriate factor to make the pivot column element in the Z-row zero.\n",
    "\n",
    "$$\n",
    "Z + 7 \\times \\text{(new R1)} \\implies \\left( -7, -3, 0, 0, 0 \\right) + 7 \\times \\left( 1, \\frac{1}{2}, -\\frac{1}{2}, 0, 4 \\right) \\implies 0, \\frac{1}{2}, -\\frac{7}{2}, 0, 28\n",
    "$$\n",
    "\n"
   ]
  },
  {
   "cell_type": "markdown",
   "id": "Enl3zJ0xdH8C",
   "metadata": {
    "id": "Enl3zJ0xdH8C"
   },
   "source": [
    "#### Updated Tableau\n",
    "\n",
    "$$\n",
    "\\begin{array}{c|cccccc}\n",
    "\\text{Basis} & x_1 & x_2 & s_1 & s_2 & \\text{RHS} \\\\\n",
    "\\hline\n",
    "x_1 & 1 & \\frac{1}{2} & -\\frac{1}{2} & 0 & 4 \\\\\n",
    "s_2 & 0 & -\\frac{3}{2} & \\frac{1}{2} & 1 & -2 \\\\\n",
    "\\hline\n",
    "Z & 0 & \\frac{1}{2} & -\\frac{7}{2} & 0 & 28\n",
    "\\end{array}\n",
    "$$\n",
    "\n"
   ]
  },
  {
   "cell_type": "markdown",
   "id": "ieMXNGg_dK-l",
   "metadata": {
    "id": "ieMXNGg_dK-l"
   },
   "source": [
    "#### Iteration 2\n",
    "\n",
    "- **Identify the entering variable**: The most negative coefficient in the Z-row is $-\\frac{7}{2}$ for $s_1$. Thus, $s_1$ will enter the basis.\n",
    "- **Identify the leaving variable**: Perform the minimum ratio test:\n",
    "  $$\n",
    "  \\frac{\\text{RHS}}{\\text{Pivot column}} = \\frac{4}{-\\frac{1}{2}} = -8, \\quad \\frac{-2}{\\frac{1}{2}} = -4\n",
    "  $$\n",
    "  The smallest ratio is -4, so $x_1$ will leave the basis.\n",
    "- **Pivot**: Pivot around the element $-\\frac{1}{2}$ in the first row, third column.\n",
    "\n"
   ]
  },
  {
   "cell_type": "markdown",
   "id": "zwSuis5OdNDt",
   "metadata": {
    "id": "zwSuis5OdNDt"
   },
   "source": [
    "##### Pivot Steps Explained\n",
    "\n",
    "**New Row 1 (Pivot row normalization):**\n",
    "Normalize the pivot row by dividing every element in the row by the pivot element (-\\frac{1}{2}).\n",
    "\n",
    "$$\n",
    "\\frac{R1}{-\\frac{1}{2}} \\implies -2, -1, 1, 0, -8\n",
    "$$\n",
    "\n",
    "**New Row 2:**\n",
    "Update the second row by adding the pivot row multiplied by the appropriate factor to make the pivot column element in the second row zero.\n",
    "\n",
    "$$\n",
    "R2 + \\frac{1}{2} \\times \\text{(new R1)} \\implies \\left( 0, -\\frac{3}{2}, \\frac{1}{2}, 1, -2 \\right) + \\frac{1}{2} \\times \\left( -2, -1, 1, 0, -8 \\right) \\implies 0, -2, 1, 1, -6\n",
    "$$\n",
    "\n",
    "**New Z-row:**\n",
    "Update the Z-row by adding the pivot row multiplied by the appropriate factor to make the pivot column element in the Z-row zero.\n",
    "\n",
    "$$\n",
    "Z - \\frac{7}{2} \\times \\text{(new R1)} \\implies \\left( 0, \\frac{1}{2}, -\\frac{7}{2}, 0, 28 \\right) - \\frac{7}{2} \\times \\left( -2, -1, 1, 0, -8 \\right) \\implies 7, 4, 0, 0, 0\n",
    "$$\n",
    "\n"
   ]
  },
  {
   "cell_type": "markdown",
   "id": "yt2ohQrEdPyY",
   "metadata": {
    "id": "yt2ohQrEdPyY"
   },
   "source": [
    "#### Updated Tableau\n",
    "\n",
    "$$\n",
    "\\begin{array}{c|cccccc}\n",
    "\\text{Basis} & x_1 & x_2 & s_1 & s_2 & \\text{RHS} \\\\\n",
    "\\hline\n",
    "s_1 & -2 & -1 & 1 & 0 & -8 \\\\\n",
    "x_2 & 0 & -2 & 1 & 1 & -6 \\\\\n",
    "\\hline\n",
    "Z & 7 & 4 & 0 & 0 & 0\n",
    "\\end{array}\n",
    "$$\n",
    "\n"
   ]
  },
  {
   "cell_type": "markdown",
   "id": "hvnX2-RUdTyH",
   "metadata": {
    "id": "hvnX2-RUdTyH"
   },
   "source": [
    "#### Iteration 3\n",
    "\n",
    "- **Identify the entering variable**: The most negative coefficient in the Z-row is 7 for $x_1$. Thus, $x_1$ will re-enter the basis.\n",
    "- **Identify the leaving variable**: Perform the minimum ratio test:\n",
    "  $$\n",
    "  \\frac{\\text{RHS}}{\\text{Pivot column}} = \\frac{-8}{-2} = 4, \\quad \\frac{-6}{0} = \\infty \\quad (\\text{skip})\n",
    "  $$\n",
    "  The smallest ratio is 4, so $s_1$ will leave the basis.\n",
    "- **Pivot**: Pivot around the element -2 in the first row, first column.\n",
    "\n"
   ]
  },
  {
   "cell_type": "markdown",
   "id": "vCjhlxH-dWix",
   "metadata": {
    "id": "vCjhlxH-dWix"
   },
   "source": [
    "##### Pivot Steps Explained\n",
    "\n",
    "**New Row 1 (Pivot row normalization):**\n",
    "Normalize the pivot row by dividing every element in the row by the pivot element (-2).\n",
    "\n",
    "$$\n",
    "\\frac{R1}{-2} \\implies 1, \\frac{1}{2}, -\\frac{1}{2}, 0, 4\n",
    "$$\n",
    "\n",
    "**New Row 2:**\n",
    "Update the second row by adding the pivot row multiplied by the appropriate factor to make the pivot column element in the second row zero.\n",
    "\n",
    "$$\n",
    "R2 + 2 \\times \\text{(new R1)} \\implies \\left( 0, -2, 1, 1, -6 \\right) + 2 \\times \\left( 1, \\frac{1}{2}, -\\frac{1}{2}, 0, 4 \\right) \\implies 2, 0, 0, 1, 2\n",
    "$$\n",
    "\n",
    "**New Z-row:**\n",
    "Update the Z-row by subtracting the pivot row multiplied by the appropriate factor to make the pivot column element in the Z-row zero.\n",
    "\n",
    "$$\n",
    "Z - 7 \\times \\text{(new R1)} \\implies \\left( 7, 4, 0, 0, 0 \\right) - 7 \\times \\left( 1, \\frac{1}{2}, -\\frac{1}{2}, 0, 4 \\right) \\implies 0, \\frac{1}{2}, -\\frac{7}{2}, 0, -28\n",
    "$$\n",
    "\n"
   ]
  },
  {
   "cell_type": "markdown",
   "id": "_Qt0dHWSdZop",
   "metadata": {
    "id": "_Qt0dHWSdZop"
   },
   "source": [
    "#### Updated Tableau\n",
    "\n",
    "$$\n",
    "\\begin{array}{c|cccccc}\n",
    "\\text{Basis} & x_1 & x_2 & s_1 & s_2 & \\text{RHS} \\\\\n",
    "\\hline\n",
    "x_1 & 1 & \\frac{1}{2} & -\\frac{1}{2} & 0 & 4 \\\\\n",
    "x_2 & 2 & 0 & 0 & 1 & 2 \\\\\n",
    "\\hline\n",
    "Z & 0 & \\frac{1}{2}, -\\frac{7}{2}, 0, -28\n",
    "\\end{array}\n",
    "$$\n",
    "\n"
   ]
  },
  {
   "cell_type": "markdown",
   "id": "43DL_5FRdcfh",
   "metadata": {
    "id": "43DL_5FRdcfh"
   },
   "source": [
    "#### Optimal Solution:\n",
    "\n",
    "Since there are no negative coefficients in the Z-row, the optimal solution has been reached. The values of the decision variables are:\n",
    "$$\n",
    "x_1 = 4, \\quad x_2 = 2\n",
    "$$\n",
    "The optimal value of the objective function is:\n",
    "$$\n",
    "Z = -28\n",
    "$$\n",
    "\n"
   ]
  },
  {
   "cell_type": "markdown",
   "id": "WVg3D1pjdf_1",
   "metadata": {
    "id": "WVg3D1pjdf_1"
   },
   "source": [
    "### Manual Solution of the Dual Problem\n",
    "\n"
   ]
  },
  {
   "cell_type": "markdown",
   "id": "Jmhm3icfdiEQ",
   "metadata": {
    "id": "Jmhm3icfdiEQ"
   },
   "source": [
    "#### Initial Simplex Tableau\n",
    "\n",
    "$$\n",
    "\\begin{array}{c|cccccc}\n",
    "\\text{Basis} & y_1 & y_2 & s_1 & s_2 & \\text{RHS} \\\\\n",
    "\\hline\n",
    "s_1 & 2 & 1 & 1 & 0 & 7 \\\\\n",
    "s_2 & 1 & 1 & 0 & 1 & 3 \\\\\n",
    "\\hline\n",
    "W & -8 & -6 & 0 & 0 & 0 \\\\\n",
    "\\end{array}\n",
    "$$\n",
    "\n"
   ]
  },
  {
   "cell_type": "markdown",
   "id": "jJvcLjMkdkZl",
   "metadata": {
    "id": "jJvcLjMkdkZl"
   },
   "source": [
    "#### Iteration 1\n",
    "\n",
    "- **Identify the entering variable**: The most negative coefficient in the W-row is -8 for $y_1$. Thus, $y_1$ will enter the basis.\n",
    "- **Identify the leaving variable**: Perform the minimum ratio test:\n",
    "  $$\n",
    "  \\frac{\\text{RHS}}{\\text{Pivot column}} = \\frac{7}{2} = 3.5, \\quad \\frac{3}{1} = 3\n",
    "  $$\n",
    "  The smallest ratio is 3, so $s_2$ will leave the basis.\n",
    "- **Pivot**: Pivot around the element 1 in the second row, first column.\n",
    "\n"
   ]
  },
  {
   "cell_type": "markdown",
   "id": "fiHQaPJkdmyc",
   "metadata": {
    "id": "fiHQaPJkdmyc"
   },
   "source": [
    "##### Pivot Steps Explained\n",
    "\n",
    "**New Row 2 (Pivot row normalization):**\n",
    "Normalize the pivot row by dividing every element in the row by the pivot element (1).\n",
    "\n",
    "$$\n",
    "\\frac{R2}{1} \\implies 1, 1, 0, 1, 3\n",
    "$$\n",
    "\n",
    "**New Row 1:**\n",
    "Update the first row by subtracting the pivot row multiplied by the appropriate factor to make the pivot column element in the first row zero.\n",
    "\n",
    "$$\n",
    "R1 - 2 \\times \\text{(new R2)} \\implies \\left( 2, 1, 1, 0, 7 \\right) - 2 \\times \\left( 1, 1, 0, 1, 3 \\right) \\implies 0, -1, 1, -2, 1\n",
    "$$\n",
    "\n",
    "**New W-row:**\n",
    "Update the W-row by adding the pivot row multiplied by the appropriate factor to make the pivot column element in the W-row zero.\n",
    "\n",
    "$$\n",
    "W + 8 \\times \\text{(new R2)} \\implies \\left( -8, -6, 0, 0, 0 \\right) + 8 \\times \\left( 1, 1, 0, 1, 3 \\right) \\implies 0, 2, 0, 8, 24\n",
    "$$\n",
    "\n"
   ]
  },
  {
   "cell_type": "markdown",
   "id": "-lZaVyRAdpsP",
   "metadata": {
    "id": "-lZaVyRAdpsP"
   },
   "source": [
    "#### Updated Tableau\n",
    "\n",
    "$$\n",
    "\\begin{array}{c|cccccc}\n",
    "\\text{Basis} & y_1 & y_2 & s_1 & s_2 & \\text{RHS} \\\\\n",
    "\\hline\n",
    "y_1 & 0, -1, 1, -2, 1 \\\\\n",
    "s_2 & 1, 1, 0, 1, 3 \\\\\n",
    "\\hline\n",
    "W & 0, 2, 0, 8, 24\n",
    "\\end{array}\n",
    "$$\n",
    "\n"
   ]
  },
  {
   "cell_type": "markdown",
   "id": "FqVaaEQfdr_X",
   "metadata": {
    "id": "FqVaaEQfdr_X"
   },
   "source": [
    "#### Iteration 2\n",
    "\n",
    "- **Identify the entering variable**: The most negative coefficient in the W-row is 2 for $y_2$. Thus, $y_2$ will enter the basis.\n",
    "- **Identify the leaving variable**: Perform the minimum ratio test:\n",
    "  $$\n",
    "  \\frac{\\text{RHS}}{\\text{Pivot column}} = \\frac{1}{-1} = -1 \\quad (skip), \\quad \\frac{3}{1} = 3\n",
    "  $$\n",
    "  The smallest ratio is 3, so $s_2$ will leave the basis.\n",
    "- **Pivot**: Pivot around the element 1 in the first row, second column.\n",
    "\n"
   ]
  },
  {
   "cell_type": "markdown",
   "id": "Z83FP8W0duEJ",
   "metadata": {
    "id": "Z83FP8W0duEJ"
   },
   "source": [
    "##### Pivot Steps Explained\n",
    "\n",
    "**New Row 1 (Pivot row normalization):**\n",
    "Normalize the pivot row by dividing every element in the row by the pivot element (1).\n",
    "\n",
    "$$\n",
    "\\frac{R1}{-1} \\implies -1, 1, -1, 1, -1\n",
    "$$\n",
    "\n",
    "**New Row 2:**\n",
    "Update the second row by subtracting the pivot row multiplied by the appropriate factor to make the pivot column element in the second row zero.\n",
    "\n",
    "$$\n",
    "R2 - 1 \\times \\text{(new R1)} \\implies \\left( 1, 1, 0, 1, 3 \\right) - \\left( -1, 1, -1, 1, -1 \\right) \\implies 2, 0, 1, 0, 4\n",
    "$$\n",
    "\n",
    "**New W-row:**\n",
    "Update the W-row by subtracting the pivot row multiplied by the appropriate factor to make the pivot column element in the W-row zero.\n",
    "\n",
    "$$\n",
    "W - 2 \\times \\text{(new R1)} \\implies \\left( 0, 2, 0, 8, 24 \\right) - 2 \\times \\left( -1, 1, -1, 1, -1 \\right) \\implies 2, 0, 2, 6, 26\n",
    "$$\n",
    "\n"
   ]
  },
  {
   "cell_type": "markdown",
   "id": "jFOfFkwhdwWU",
   "metadata": {
    "id": "jFOfFkwhdwWU"
   },
   "source": [
    "#### Updated Tableau\n",
    "\n",
    "$$\n",
    "\\begin{array}{c|cccccc}\n",
    "\\text{Basis} & y_1 & y_2 & s_1 & s_2 & \\text{RHS} \\\\\n",
    "\\hline\n",
    "y_1 & -1 & 1 & -1 & 1 & -1 \\\\\n",
    "y_2 & 2 & 0 & 1 & 0 & 4 \\\\\n",
    "\\hline\n",
    "W & 2 & 0 & 2 & 6 & 26\n",
    "\\end{array}\n",
    "$$\n",
    "\n"
   ]
  },
  {
   "cell_type": "markdown",
   "id": "2kBB-ZGkdyS8",
   "metadata": {
    "id": "2kBB-ZGkdyS8"
   },
   "source": [
    "#### Optimal Solution:\n",
    "\n",
    "Since there are no negative coefficients in the W-row, the optimal solution has been reached. The values of the decision variables are:\n",
    "$$\n",
    "y_1 = 0, \\quad y_2 = 4\n",
    "$$\n",
    "The optimal value of the objective function is:\n",
    "$$\n",
    "W = 26\n",
    "$$\n",
    "\n"
   ]
  },
  {
   "cell_type": "markdown",
   "id": "-jOF-9Ucd0Sg",
   "metadata": {
    "id": "-jOF-9Ucd0Sg"
   },
   "source": [
    "### Solve Both Problems Using Code\n",
    "\n",
    "**Primal Problem:**\n",
    "```python\n",
    "import numpy as np\n",
    "from scipy.optimize import linprog\n",
    "\n",
    "# Coefficients of the objective function\n",
    "c_primal = [7, 3]\n",
    "\n",
    "# Coefficients of the inequality constraints (convert to <= form)\n",
    "A_primal = [[-2, -1], [-1, -1]]\n",
    "b_primal = [-8, -6]\n",
    "\n",
    "# Solve the linear program\n",
    "result_primal = linprog(c_primal, A_ub=A_primal, b_ub=b_primal, method='highs')\n",
    "\n",
    "# Display the results\n",
    "primal_solution = result_primal.x\n",
    "primal_value = result_primal.fun\n",
    "\n",
    "print(\"Primal Solution:\", primal_solution)\n",
    "print(\"Primal Optimal Value:\", primal_value)\n",
    "```\n",
    "\n",
    "**Dual Problem:**\n",
    "\n",
    "```python\n",
    "# Coefficients of the objective function\n",
    "c_dual = [-8, -6]\n",
    "\n",
    "# Coefficients of the inequality constraints (convert to <= form)\n",
    "A_dual = [[2, 1], [1, 1]]\n",
    "b_dual = [7, 3]\n",
    "\n",
    "# Solve the linear program\n",
    "result_dual = linprog(c_dual, A_ub=A_dual, b_ub=b_dual, method='highs')\n",
    "\n",
    "# Display the results\n",
    "dual_solution = result_dual.x\n",
    "dual_value = -result_dual.fun\n",
    "\n",
    "print(\"Dual Solution:\", dual_solution)\n",
    "print(\"Dual Optimal Value:\", dual_value)\n",
    "```\n",
    "\n"
   ]
  },
  {
   "cell_type": "markdown",
   "id": "X--QDNUId3DU",
   "metadata": {
    "id": "X--QDNUId3DU"
   },
   "source": [
    "### Demonstrate Equivalence of the Solution\n",
    "\n",
    "The results of the manual and computational solutions should match, demonstrating the equivalence of the solutions for the primal and dual problems.\n",
    "\n"
   ]
  },
  {
   "cell_type": "markdown",
   "id": "FhQ5Wgz1d5N3",
   "metadata": {
    "id": "FhQ5Wgz1d5N3"
   },
   "source": [
    "#### Primal Problem Solution\n",
    "\n",
    "- **Manual Solution:**\n",
    "  $$\n",
    "  x_1 = 4, \\quad x_2 = 2, \\quad Z = -28\n",
    "  $$\n",
    "\n",
    "- **Computational Solution:**\n",
    "  ```python\n",
    "  print(\"Primal Solution:\", primal_solution)\n",
    "  print(\"Primal Optimal Value:\", primal_value)\n",
    "  ```\n",
    "\n"
   ]
  },
  {
   "cell_type": "markdown",
   "id": "NihHc00id7N-",
   "metadata": {
    "id": "NihHc00id7N-"
   },
   "source": [
    "#### Dual Problem Solution\n",
    "\n",
    "- **Manual Solution:**\n",
    "  $$\n",
    "  y_1 = 0, \\quad y_2 = 4, \\quad W = 26\n",
    "  $$\n",
    "\n",
    "- **Computational Solution:**\n",
    "  ```python\n",
    "  print(\"Dual Solution:\", dual_solution)\n",
    "  print(\"Dual Optimal Value:\", dual_value)\n",
    "  ```\n",
    "\n"
   ]
  },
  {
   "cell_type": "markdown",
   "id": "K4g--DERd9QQ",
   "metadata": {
    "id": "K4g--DERd9QQ"
   },
   "source": [
    "#### Equivalence Check\n",
    "\n",
    "The optimal value of the primal problem (Z) and the negative of the optimal value of the dual problem (W) should be equal, demonstrating the equivalence of the solutions.\n",
    "\n",
    "```python\n",
    "# Check equivalence\n",
    "equivalence = np.isclose(primal_value, dual_value)\n",
    "print(\"Equivalence Check:\", equivalence)\n",
    "```\n",
    "\n",
    "If `equivalence` is `True`, it confirms that the solutions are equivalent.\n",
    "\n"
   ]
  },
  {
   "cell_type": "markdown",
   "id": "yENzJR-Sd_NF",
   "metadata": {
    "id": "yENzJR-Sd_NF"
   },
   "source": [
    "### Conclusion\n",
    "\n",
    "This notebook demonstrated the formulation and solution of a primal and dual linear programming problem, both manually and using code. The equivalence of the solutions was confirmed, illustrating the strong duality theorem in linear programming.\n",
    "\n"
   ]
  },
  {
   "cell_type": "markdown",
   "id": "lu4bMNcCeBGD",
   "metadata": {
    "id": "lu4bMNcCeBGD"
   },
   "source": [
    "#### Complete Notebook Code\n",
    "\n",
    "Below is the complete code to be run in a Jupyter Notebook:\n"
   ]
  },
  {
   "cell_type": "code",
   "execution_count": 5,
   "id": "a6XpEbrXeIF6",
   "metadata": {
    "colab": {
     "base_uri": "https://localhost:8080/"
    },
    "id": "a6XpEbrXeIF6",
    "outputId": "a0f115fc-e994-4769-90b1-f60efb2ae09b"
   },
   "outputs": [
    {
     "name": "stdout",
     "output_type": "stream",
     "text": [
      "Primal Solution: [0. 8.]\n",
      "Primal Optimal Value: 24.0\n",
      "Dual Solution: [3. 0.]\n",
      "Dual Optimal Value: 24.0\n",
      "Equivalence Check: True\n"
     ]
    }
   ],
   "source": [
    "import numpy as np\n",
    "from scipy.optimize import linprog\n",
    "\n",
    "# Primal problem\n",
    "c_primal = [7, 3]\n",
    "A_primal = [[-2, -1], [-1, -1]]\n",
    "b_primal = [-8, -6]\n",
    "\n",
    "result_primal = linprog(c_primal, A_ub=A_primal, b_ub=b_primal, method='highs')\n",
    "primal_solution = result_primal.x\n",
    "primal_value = result_primal.fun\n",
    "\n",
    "print(\"Primal Solution:\", primal_solution)\n",
    "print(\"Primal Optimal Value:\", primal_value)\n",
    "\n",
    "# Dual problem\n",
    "c_dual = [-8, -6]\n",
    "A_dual = [[2, 1], [1, 1]]\n",
    "b_dual = [7, 3]\n",
    "\n",
    "result_dual = linprog(c_dual, A_ub=A_dual, b_ub=b_dual, method='highs')\n",
    "dual_solution = result_dual.x\n",
    "dual_value = -result_dual.fun\n",
    "\n",
    "print(\"Dual Solution:\", dual_solution)\n",
    "print(\"Dual Optimal Value:\", dual_value)\n",
    "\n",
    "# Check equivalence\n",
    "equivalence = np.isclose(primal_value, dual_value)\n",
    "print(\"Equivalence Check:\", equivalence)\n"
   ]
  },
  {
   "cell_type": "markdown",
   "id": "cl8jxcV0eGNI",
   "metadata": {
    "id": "cl8jxcV0eGNI"
   },
   "source": [
    "Run this complete notebook code to verify and document the equivalence of the primal and dual solutions.\n",
    "\n",
    "This concludes the walkthrough for this example. Let me know if you have any other questions or need further assistance!"
   ]
  }
 ],
 "metadata": {
  "colab": {
   "include_colab_link": true,
   "provenance": [],
   "toc_visible": true
  },
  "kernelspec": {
   "display_name": "Python 3 (ipykernel)",
   "language": "python",
   "name": "python3"
  },
  "language_info": {
   "codemirror_mode": {
    "name": "ipython",
    "version": 3
   },
   "file_extension": ".py",
   "mimetype": "text/x-python",
   "name": "python",
   "nbconvert_exporter": "python",
   "pygments_lexer": "ipython3",
   "version": "3.11.9"
  },
  "toc": {
   "base_numbering": 1,
   "nav_menu": {},
   "number_sections": true,
   "sideBar": true,
   "skip_h1_title": false,
   "title_cell": "Table of Contents",
   "title_sidebar": "Contents",
   "toc_cell": false,
   "toc_position": {},
   "toc_section_display": true,
   "toc_window_display": false
  }
 },
 "nbformat": 4,
 "nbformat_minor": 5
}
