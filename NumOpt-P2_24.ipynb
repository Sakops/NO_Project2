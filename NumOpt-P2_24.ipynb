{
 "cells": [
  {
   "cell_type": "markdown",
   "source": [
    "# Numerical Optimization - Project 2 (in teams/groups)\n",
    "\n",
    "Deadline: Sunday, June 30 .\n",
    "\n",
    "## General description:\n",
    "\n",
    "The overall task of Project 2 is to program the simplex method (for linear programs - LPs) and the active set method (for quadratic programs - QPs).\n",
    "\n",
    "For project 2, there is no individual phase, only the group phase. Altogether there are 20 problems and 2 methods, i.e. 40 tasks, corresponding to 40 points.\n",
    "\n",
    "For the simplex method, choose 5 problems with 2 variables for which you can easily find the solution geometrically and 5 problems with 10 variables. For each of the 10 problems, choose 2 starting points - one feasible and one not feasible (10 problems with 2 starting point, hence 20 tasks). Thus, with the basic form of the simplex method, you can only solve half of the problems (when the starting point is feasible) and for the other half, you need to implement additional considerations from STARTING THE SIMPLEX METHOD in Section 13.5, where suggestions how to find a starting feasible point can be found.\n",
    "\n",
    "Hint: To construct the LPs, you can e.g. start with the constraints $x \\geq 0$ and $a_{i}^{T} x \\leq b_{i}$. Here, the point $x=0$ is always feasible if $b_{i} \\geq 0$. On the other and, the point $x=(1,1, \\ldots, 1)$ is not feasible if the sum of the components of vector $a_{i}$ is strictly larger than $b_{i}$. Then, you can add slack variables in order to trasform the constraints into the standard LP format.\n",
    "\n",
    "For the active set method, consider a matrix $M$ with $m$ rows and $n=2 m$ columns and a vector $y \\in \\mathbb{R}^{m}$. For the objective function, take $1 / 2\\|M x-y\\|^{2}$ and for the constraints take $\\|x\\|_{1}=\\sum_{i=1}^{n}\\left|x_{i}\\right| \\leq 1$. Your task is first to reformulate this problem as the standard QP from Chapter 16: (16.1a) - (16.1c), i.e., to identify $G, c, a_{i}$ and $b_{i}$. Careful how you reformulate the problem - the more obvious way of reformulation may lead to too many constraints (e.g. for $m=5$ and $n=10$ below). In such case, try a different approach, where you add some additional variables while keeping the numbers of constraints reasonable. Hint: Can $z \\in \\mathbb{R}^{n}$ with $z_{i} \\geq x_{i}, z_{i} \\geq-x_{i}$ and $\\sum_{i=1}^{n} z_{i} \\leq 1$ help? You may also search online for some other hints.\n",
    "\n",
    "Choose 5 such matrices $M$ and 5 vectors $y$ with $m=1,2,3,4,5$ and $n=2,4,6,8,10$, respectively, and run the active set method on the corresponding QP reformulations, where you choose 3 starting points for each problem (15 tasks together). After you choose $M$, compute its spectral norm $\\|M\\|_{2}$, i.e., the largest singular value of $M$ (i.e., the square root of the largest eigenvalue of the matrix $M^{T} M$ ) and choose $y$ with $\\|y\\| \\geq\\|M\\|_{2}$.\n",
    "\n",
    "Finally, let $y=(1,-2,3,-4,5,-5,4,-3,2,-1)^{T}$ and let $\\tilde{M}$ be 2 -by-4 matrix with rows $(1,1,0,0)$ and $(0,0,1,1)$ and let $M$ be the 10-by-20 matrix with 5 -by- 5 blocks given by\n",
    "\n",
    "$$\n",
    "M=\\left(\\begin{array}{ccccc}\n",
    "\\tilde{M} & 0 & 0 & 0 & 0 \\\\\n",
    "0 & \\tilde{M} & 0 & 0 & 0 \\\\\n",
    "0 & 0 & \\tilde{M} & 0 & 0 \\\\\n",
    "0 & 0 & 0 & \\tilde{M} & 0 \\\\\n",
    "0 & 0 & 0 & 0 & \\tilde{M}\n",
    "\\end{array}\\right)\n",
    "$$\n",
    "\n",
    "Here 0 denotes the 2-by-4 matrix with zero entries. Again, run the active set method on the corresponding QP reformulation, where you choose 5 starting points. Moreover, for all 6 QPs compute and write also the solution (solutions?) to the unconstrained problem $\\min _{x} 1 / 2\\|M x-y\\|^{2}$ - you may use e.g. your steepest descent or (linear) conjugate gradient.\n",
    "\n",
    "Hint: To construct the matrices $M$, you may use some inspiration from the least-squares problems from project 1 (but note that that here we want $n$ larger than $m$ ).\n",
    "\n",
    "## What should your submission contain?\n",
    "\n",
    "All the files containing the codes and a report.\n",
    "\n",
    "In the report, specify the problems you solved. For the 5 simpler problems for LPs, write also the true solution.\n",
    "\n",
    "Then, print all 40 runs you performed. After each run, provide a short summary with number of iterations, final iterate, stopping criteria, and the running time.\n",
    "\n"
   ],
   "metadata": {
    "id": "WA8Y-8PTiNxO"
   },
   "id": "WA8Y-8PTiNxO"
  }
 ],
 "metadata": {
  "kernelspec": {
   "display_name": "Python 3",
   "language": "python",
   "name": "python3"
  },
  "language_info": {
   "codemirror_mode": {
    "name": "ipython",
    "version": 2
   },
   "file_extension": ".py",
   "mimetype": "text/x-python",
   "name": "python",
   "nbconvert_exporter": "python",
   "pygments_lexer": "ipython2",
   "version": "2.7.6"
  },
  "colab": {
   "provenance": [],
   "toc_visible": true,
   "include_colab_link": true
  }
 },
 "nbformat": 4,
 "nbformat_minor": 5
}
